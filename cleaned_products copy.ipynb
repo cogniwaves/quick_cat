{
 "cells": [
  {
   "cell_type": "code",
   "execution_count": 1,
   "metadata": {},
   "outputs": [],
   "source": [
    "import firebase_admin\n",
    "from firebase_admin import credentials, firestore\n",
    "\n",
    "# Initialize Firebase\n",
    "cred = credentials.Certificate(\"/home/poiqwepoi/octo_secrets/octogone-2024-fs.json\")\n",
    "firebase_admin.initialize_app(cred)\n",
    "\n",
    "# Get Firestore client\n",
    "db = firestore.client()\n"
   ]
  },
  {
   "cell_type": "code",
   "execution_count": 2,
   "metadata": {},
   "outputs": [
    {
     "name": "stdout",
     "output_type": "stream",
     "text": [
      "clientSuppliers\n",
      "clients\n",
      "distributors\n",
      "octogone\n",
      "products\n"
     ]
    }
   ],
   "source": [
    "collections = db.collections()\n",
    "for collection in collections:\n",
    "    print(collection.id)\n",
    "\n"
   ]
  },
  {
   "cell_type": "markdown",
   "metadata": {},
   "source": [
    "# Show sample of client documents"
   ]
  },
  {
   "cell_type": "code",
   "execution_count": 3,
   "metadata": {},
   "outputs": [
    {
     "name": "stdout",
     "output_type": "stream",
     "text": [
      "Document ID: 0UlMhnf6vyvsqNxRjqqO\n",
      "{'id': '0UlMhnf6vyvsqNxRjqqO', 'name': 'Marriott Château Champlain'}\n",
      "----------------------------------------\n",
      "Document ID: 1CizJe6Mc8lUi3I6ul9n\n",
      "{'id': '1CizJe6Mc8lUi3I6ul9n', 'name': 'Sushi Taxi'}\n",
      "----------------------------------------\n",
      "Document ID: 7DG0oD842HhqOuWLuXV2\n",
      "{'id': '7DG0oD842HhqOuWLuXV2', 'name': 'Chez Mag Fine Cantine'}\n",
      "----------------------------------------\n",
      "Document ID: ADevDb\n",
      "{'isQrFeatureActive': True, 'id': 'ADevDb', 'isDev': True, 'clientAccess': {'accessDeniedReason': 0, 'isAccessDenied': False}, 'isBeta': True, 'isAttachmentModuleActive': True, 'name': '# DEV Octane'}\n",
      "----------------------------------------\n",
      "Document ID: AInventoryDebugDev\n",
      "{'isBeta': True, 'id': 'AInventoryDebugDev', 'isDev': True, 'name': '# DEV DEBUG GROS INVENTAIRE'}\n",
      "----------------------------------------\n"
     ]
    }
   ],
   "source": [
    "# Get a reference to the 'clients' collection\n",
    "clients_ref = db.collection(\"clients\")\n",
    "\n",
    "# Fetch up to 5 documents (adjust as needed)\n",
    "docs = clients_ref.limit(5).stream()\n",
    "\n",
    "# Print each document\n",
    "for doc in docs:\n",
    "    print(f\"Document ID: {doc.id}\")\n",
    "    print(doc.to_dict())  # Convert Firestore document to dictionary\n",
    "    print(\"-\" * 40)  # Separator for readability\n"
   ]
  },
  {
   "cell_type": "code",
   "execution_count": 4,
   "metadata": {},
   "outputs": [
    {
     "name": "stdout",
     "output_type": "stream",
     "text": [
      "Document ID: chezRioux\n",
      "{'isBeta': True, 'id': 'chezRioux', 'clientAccess': {'accessDeniedReason': 0, 'isAccessDenied': False}, 'isDev': True, 'name': 'Chez Rioux & Pettigrew'}\n",
      "----------------------------------------\n"
     ]
    }
   ],
   "source": [
    "query = db.collection(\"clients\").stream()\n",
    "\n",
    "for doc in query:\n",
    "    data = doc.to_dict()\n",
    "    if \"name\" in data and \"Rioux\" in data[\"name\"]:\n",
    "        print(f\"Document ID: {doc.id}\")\n",
    "        print(data)\n",
    "        print(\"-\" * 40)\n"
   ]
  },
  {
   "cell_type": "code",
   "execution_count": 5,
   "metadata": {},
   "outputs": [
    {
     "name": "stdout",
     "output_type": "stream",
     "text": [
      "{'isBeta': True, 'id': 'chezRioux', 'clientAccess': {'accessDeniedReason': 0, 'isAccessDenied': False}, 'isDev': True, 'name': 'Chez Rioux & Pettigrew'}\n"
     ]
    }
   ],
   "source": [
    "# find in product collection product with document ID 01ed23998d6dccc6acf86ab638f9c5c1\n",
    "product = db.collection('clients').document('chezRioux').get()\n",
    "print(product.to_dict())"
   ]
  },
  {
   "cell_type": "code",
   "execution_count": 6,
   "metadata": {},
   "outputs": [
    {
     "name": "stdout",
     "output_type": "stream",
     "text": [
      "establishments\n"
     ]
    }
   ],
   "source": [
    "doc_ref = db.collection(\"clients\").document(\"chezRioux\")\n",
    "\n",
    "# List subcollections\n",
    "subcollections = doc_ref.collections()\n",
    "\n",
    "for subcollection in subcollections:\n",
    "    print(subcollection.id)  # Print subcollection names\n",
    "\n"
   ]
  },
  {
   "cell_type": "code",
   "execution_count": 7,
   "metadata": {},
   "outputs": [
    {
     "name": "stdout",
     "output_type": "stream",
     "text": [
      "Document ID: 6Qw8d1MPRJIKcQslZgeN\n",
      "{}\n",
      "----------------------------------------\n",
      "Document ID: Ili92LFZK5lIfpiqr4QG\n",
      "{}\n",
      "----------------------------------------\n",
      "Document ID: Osxbu9tbdpkoZsjzyyDS\n",
      "{}\n",
      "----------------------------------------\n",
      "Document ID: T5mYEr675p60onvHJbSt\n",
      "{}\n",
      "----------------------------------------\n",
      "Document ID: c40RbOkXOSuSxn9vlG16\n",
      "{}\n",
      "----------------------------------------\n",
      "Document ID: global\n",
      "{}\n",
      "----------------------------------------\n",
      "Document ID: r94BSJnNSarzeE05SxOg\n",
      "{}\n",
      "----------------------------------------\n"
     ]
    }
   ],
   "source": [
    "subcollection_ref = db.collection(\"clients\").document(\"chezRioux\").collection(\"establishments\")\n",
    "docs = subcollection_ref.stream()\n",
    "\n",
    "for doc in docs:\n",
    "    print(f\"Document ID: {doc.id}\")\n",
    "    print(doc.to_dict())  # Convert Firestore document to dictionary\n",
    "    print(\"-\" * 40)\n"
   ]
  },
  {
   "cell_type": "code",
   "execution_count": 8,
   "metadata": {},
   "outputs": [
    {
     "name": "stdout",
     "output_type": "stream",
     "text": [
      "categories\n",
      "establishments\n",
      "products\n",
      "recipes\n",
      "suppliers\n",
      "tags\n"
     ]
    }
   ],
   "source": [
    "global_doc_ref = db.collection(\"clients\").document(\"chezRioux\").collection(\"establishments\").document(\"global\")\n",
    "\n",
    "# List subcollections\n",
    "subcollections = global_doc_ref.collections()\n",
    "\n",
    "for subcollection in subcollections:\n",
    "    print(subcollection.id)  # Print subcollection names\n",
    "\n"
   ]
  },
  {
   "cell_type": "code",
   "execution_count": 19,
   "metadata": {},
   "outputs": [
    {
     "name": "stdout",
     "output_type": "stream",
     "text": [
      "                                    id  \\\n",
      "0     00061f6e22f35ce790a93ef01fa14047   \n",
      "1     005da4fb77dbbc4b63edbdd1635f8654   \n",
      "2                 01063MxQwtVWQj0esmob   \n",
      "3     0201855a8452be6e0bea9e805ddee867   \n",
      "4     020547e94e6798d7138ee14f23d9885c   \n",
      "...                                ...   \n",
      "3105              zxiWefJ0dJfbZHXtVOwO   \n",
      "3106              zxpejLpqRncFqmZawNEY   \n",
      "3107              zy2v3m1hyy0CswgarLXO   \n",
      "3108              zzhM52ZE07HhvZU8DUCo   \n",
      "3109              zzuEK7hhGx3zUE5ZZ3Jq   \n",
      "\n",
      "                                              name  \\\n",
      "0                                Fromage St-Honoré   \n",
      "1                             épice Mustard Powder   \n",
      "2                          pain burger sans gluten   \n",
      "3     Assaisonnement ail rôti et poivron une étape   \n",
      "4                        Purée de fraises, congelé   \n",
      "...                                            ...   \n",
      "3105                    Jus de pomme portion 300ml   \n",
      "3106       De Negri Monovitigno Grappa di prosecco   \n",
      "3107                       Coureur des bois whisky   \n",
      "3108                         Tomate des canadienne   \n",
      "3109                                    Kiwi Frais   \n",
      "\n",
      "                                             textSearch  \\\n",
      "0                              Fromage St-Honoré  41150   \n",
      "1                         épice Mustard Powder  2370012   \n",
      "2                               pain burger sans gluten   \n",
      "3     Assaisonnement ail rôti et poivron une étape 9...   \n",
      "4     Purée de fraises, congelé 10408 10890287104082...   \n",
      "...                                                 ...   \n",
      "3105                 Jus de pomme portion 300ml 9530026   \n",
      "3106  De Negri Monovitigno Grappa di prosecco Brandy...   \n",
      "3107  Coureur des bois whisky Inspiré de la plus pur...   \n",
      "3108                      Tomate des canadienne 1145418   \n",
      "3109                  Kiwi Frais 2040021 700973 2040020   \n",
      "\n",
      "                                       productSuppliers packaging  price  \\\n",
      "0     {'6O1FtPg5V9woBCwOqtY241150': {'equivalences':...      None    NaN   \n",
      "1     {'nl335PEacrsOYpqR8HRl2370012': {'equivalences...      None    NaN   \n",
      "2                                                    {}      None    NaN   \n",
      "3     {'XzKzAD6uPnLz7JLKBFqn8787005': {'equivalences...   12X660G  19.56   \n",
      "4     {'nl335PEacrsOYpqR8HRl940401': {'equivalences'...      None    NaN   \n",
      "...                                                 ...       ...    ...   \n",
      "3105  {'XzKzAD6uPnLz7JLKBFqn9530026': {'equivalences...  24X300ML  18.96   \n",
      "3106  {'2YbkFlGIasSqv7fjssPs597534': {'equivalences'...      None    NaN   \n",
      "3107  {'2YbkFlGIasSqv7fjssPs11724979': {'equivalence...      None    NaN   \n",
      "3108  {'XzKzAD6uPnLz7JLKBFqn1145418': {'equivalences...   6X2.84L  35.97   \n",
      "3109  {'nl335PEacrsOYpqR8HRl2040021': {'equivalences...     12 un   6.10   \n",
      "\n",
      "      pricePerUnit  \n",
      "0              NaN  \n",
      "1              NaN  \n",
      "2              NaN  \n",
      "3        19.560000  \n",
      "4              NaN  \n",
      "...            ...  \n",
      "3105      0.790000  \n",
      "3106           NaN  \n",
      "3107     32.830000  \n",
      "3108      5.995000  \n",
      "3109      0.508333  \n",
      "\n",
      "[3110 rows x 7 columns]\n"
     ]
    }
   ],
   "source": [
    "import json\n",
    "import pandas as pd\n",
    "\n",
    "products_ref = (\n",
    "    db.collection(\"clients\")\n",
    "    .document(\"chezRioux\")\n",
    "    .collection(\"establishments\")\n",
    "    .document(\"global\")\n",
    "    .collection(\"products\")\n",
    ")\n",
    "\n",
    "docs = products_ref.stream()\n",
    "\n",
    "\n",
    "for doc in docs:\n",
    "    print(f\"Document ID: {doc.id}\")\n",
    "    print(doc.to_dict())  # Convert Firestore document to dictionary\n",
    "    print(\"-\" * 40)\n",
    "\n",
    "data =[]\n",
    "\n",
    "for doc in docs:\n",
    "    myprod = doc.to_dict()\n",
    "\n",
    "    # Extract required fields\n",
    "    product_id = doc.id\n",
    "    product_name = myprod.get(\"name\", None)\n",
    "    text_search = myprod.get(\"textSearch\", None)\n",
    "    product_suppliers = myprod.get(\"productSuppliers\", None)\n",
    "    \n",
    "    # Extract latestInvoiceLine details\n",
    "    latest_invoice = myprod.get(\"latestInvoiceLine\", {})\n",
    "\n",
    "    if latest_invoice:\n",
    "        # Extract pricePerUnit directly\n",
    "        price_per_unit = latest_invoice.get(\"pricePerUnit\", None)\n",
    "\n",
    "        # Extract packaging and price from supplierInvoiceLineInfo\n",
    "        supplier_info = latest_invoice.get(\"supplierInvoiceLineInfo\", \"{}\")\n",
    "        supplier_info = json.loads(supplier_info) if isinstance(supplier_info, str) else supplier_info\n",
    "\n",
    "        packaging = supplier_info.get(\"packaging\", None)\n",
    "        price = supplier_info.get(\"price\", None)\n",
    "    else:\n",
    "        price_per_unit = None\n",
    "        packaging = None\n",
    "        price = None\n",
    "\n",
    "    # Append structured data to list\n",
    "    data.append({\n",
    "        \"id\": product_id,\n",
    "        \"name\": product_name,\n",
    "        \"textSearch\": text_search,\n",
    "        \"productSuppliers\": product_suppliers,\n",
    "        \"packaging\": packaging,\n",
    "        \"price\": price,\n",
    "        \"pricePerUnit\": price_per_unit,\n",
    "    })\n",
    "\n",
    "# Convert to DataFrame\n",
    "products_df = pd.DataFrame(data)\n",
    "\n",
    "# Display the DataFrame\n",
    "print(products_df)\n",
    "\n"
   ]
  },
  {
   "cell_type": "code",
   "execution_count": 22,
   "metadata": {},
   "outputs": [
    {
     "name": "stdout",
     "output_type": "stream",
     "text": [
      "                                    id  \\\n",
      "0     00061f6e22f35ce790a93ef01fa14047   \n",
      "1     005da4fb77dbbc4b63edbdd1635f8654   \n",
      "2                 01063MxQwtVWQj0esmob   \n",
      "3     0201855a8452be6e0bea9e805ddee867   \n",
      "4     020547e94e6798d7138ee14f23d9885c   \n",
      "...                                ...   \n",
      "3105              zxiWefJ0dJfbZHXtVOwO   \n",
      "3106              zxpejLpqRncFqmZawNEY   \n",
      "3107              zy2v3m1hyy0CswgarLXO   \n",
      "3108              zzhM52ZE07HhvZU8DUCo   \n",
      "3109              zzuEK7hhGx3zUE5ZZ3Jq   \n",
      "\n",
      "                                              name packaging  pricePerUnit  \n",
      "0                                Fromage St-Honoré      None           NaN  \n",
      "1                             épice Mustard Powder      None           NaN  \n",
      "2                          pain burger sans gluten      None           NaN  \n",
      "3     Assaisonnement ail rôti et poivron une étape   12X660G     19.560000  \n",
      "4                        Purée de fraises, congelé      None           NaN  \n",
      "...                                            ...       ...           ...  \n",
      "3105                    Jus de pomme portion 300ml  24X300ML      0.790000  \n",
      "3106       De Negri Monovitigno Grappa di prosecco      None           NaN  \n",
      "3107                       Coureur des bois whisky      None     32.830000  \n",
      "3108                         Tomate des canadienne   6X2.84L      5.995000  \n",
      "3109                                    Kiwi Frais     12 un      0.508333  \n",
      "\n",
      "[3110 rows x 4 columns]\n"
     ]
    }
   ],
   "source": [
    "print(products_df[[\"id\", \"name\", \"packaging\",\"pricePerUnit\"]])\n",
    "products_df.to_csv(\"products.csv\", index=False)"
   ]
  },
  {
   "cell_type": "code",
   "execution_count": null,
   "metadata": {},
   "outputs": [
    {
     "name": "stdout",
     "output_type": "stream",
     "text": [
      "{'nl335PEacrsOYpqR8HRl2040021': {'equivalences': [{'isActive': True, 'createdId': '010bbb7f485743c3a0d810b568b9', 'measureType': 0, 'equivalence': {'measureId': '4mwgSAFKoNSRfDIZykoL', 'qtyOfMeasure': 8}, 'abbreviation': 'CS', 'createdDate': 1704382052630, 'name': 'CS'}], 'supplierId': 'nl335PEacrsOYpqR8HRl', 'priorityIndex': 2, 'id': 'g0Z8qE2PjSVTNvjELmdC', 'code': '2040021'}, 'nl335PEacrsOYpqR8HRl2040020': {'equivalences': [{'isActive': True, 'createdId': '010bbb7f485743c3a0d810b568b9', 'measureType': 0, 'equivalence': {'measureId': '4mwgSAFKoNSRfDIZykoL', 'qtyOfMeasure': 42}, 'abbreviation': 'CS', 'createdDate': 1704382052630, 'name': 'CS'}], 'supplierId': 'nl335PEacrsOYpqR8HRl', 'priorityIndex': 1, 'id': 'DZJBN5c7sxyEBn5Ary9i', 'code': '2040020'}, 'UeRNZf0p9FHnx54VTu5j700973': {'equivalences': [{'isActive': True, 'createdId': 'ApiInvoice', 'measureType': 0, 'equivalence': {'measureId': '4mwgSAFKoNSRfDIZykoL', 'qtyOfMeasure': 12}, 'abbreviation': 'UN', 'createdDate': 1700744199551, 'name': 'UN'}], 'supplierId': 'UeRNZf0p9FHnx54VTu5j', 'priorityIndex': 0, 'id': '32Xxd1r17rDKQlADLnkw', 'code': '700973'}}\n",
      "Kiwi Frais\n",
      "Kiwi Frais 2040021 700973 2040020\n",
      "zzuEK7hhGx3zUE5ZZ3Jq\n"
     ]
    },
    {
     "ename": "KeyError",
     "evalue": "'pricePerUnit'",
     "output_type": "error",
     "traceback": [
      "\u001b[0;31m---------------------------------------------------------------------------\u001b[0m",
      "\u001b[0;31mKeyError\u001b[0m                                  Traceback (most recent call last)",
      "Cell \u001b[0;32mIn[17], line 12\u001b[0m\n\u001b[1;32m     10\u001b[0m \u001b[38;5;28mprint\u001b[39m(myprod[\u001b[38;5;124m\"\u001b[39m\u001b[38;5;124mtextSearch\u001b[39m\u001b[38;5;124m\"\u001b[39m])\n\u001b[1;32m     11\u001b[0m \u001b[38;5;28mprint\u001b[39m(myprod[\u001b[38;5;124m\"\u001b[39m\u001b[38;5;124mid\u001b[39m\u001b[38;5;124m\"\u001b[39m])\n\u001b[0;32m---> 12\u001b[0m \u001b[38;5;28mprint\u001b[39m(\u001b[43mmyprod\u001b[49m\u001b[43m[\u001b[49m\u001b[38;5;124;43m\"\u001b[39;49m\u001b[38;5;124;43mpricePerUnit\u001b[39;49m\u001b[38;5;124;43m\"\u001b[39;49m\u001b[43m]\u001b[49m)\n",
      "\u001b[0;31mKeyError\u001b[0m: 'pricePerUnit'"
     ]
    }
   ],
   "source": [
    "\"\"\"myprod = doc.to_dict()\n",
    "\n",
    "myprod.keys()\n",
    "#print(myprod.productSuppliers, \" \", myprod.name, \" \" , myprod.textSearch)\n",
    "\n",
    "\n",
    "# print values for keys productSuppliers, name and textSearch\n",
    "print(myprod[\"productSuppliers\"])\n",
    "print(myprod[\"name\"])\n",
    "print(myprod[\"textSearch\"])\n",
    "print(myprod[\"id\"])\n",
    "print(myprod[\"pricePerUnit\"])\n",
    "\"\"\"\n"
   ]
  },
  {
   "cell_type": "code",
   "execution_count": 12,
   "metadata": {},
   "outputs": [
    {
     "name": "stdout",
     "output_type": "stream",
     "text": [
      "                                 id  \\\n",
      "0  00061f6e22f35ce790a93ef01fa14047   \n",
      "1  005da4fb77dbbc4b63edbdd1635f8654   \n",
      "2              01063MxQwtVWQj0esmob   \n",
      "3  0201855a8452be6e0bea9e805ddee867   \n",
      "4  020547e94e6798d7138ee14f23d9885c   \n",
      "\n",
      "                                    productSuppliers  \\\n",
      "0  {'6O1FtPg5V9woBCwOqtY241150': {'equivalences':...   \n",
      "1  {'nl335PEacrsOYpqR8HRl2370012': {'equivalences...   \n",
      "2                                                 {}   \n",
      "3  {'XzKzAD6uPnLz7JLKBFqn8787005': {'equivalences...   \n",
      "4  {'nl335PEacrsOYpqR8HRl940401': {'equivalences'...   \n",
      "\n",
      "                                           name  \\\n",
      "0                             Fromage St-Honoré   \n",
      "1                          épice Mustard Powder   \n",
      "2                       pain burger sans gluten   \n",
      "3  Assaisonnement ail rôti et poivron une étape   \n",
      "4                     Purée de fraises, congelé   \n",
      "\n",
      "                                          textSearch  \n",
      "0                           Fromage St-Honoré  41150  \n",
      "1                      épice Mustard Powder  2370012  \n",
      "2                            pain burger sans gluten  \n",
      "3  Assaisonnement ail rôti et poivron une étape 9...  \n",
      "4  Purée de fraises, congelé 10408 10890287104082...  \n"
     ]
    }
   ],
   "source": [
    "import pandas as pd\n",
    "\n",
    "# Reference to products collection\n",
    "products_ref = (\n",
    "    db.collection(\"clients\")\n",
    "    .document(\"chezRioux\")\n",
    "    .collection(\"establishments\")\n",
    "    .document(\"global\")\n",
    "    .collection(\"products\")\n",
    ")\n",
    "\n",
    "# Retrieve documents\n",
    "docs = products_ref.stream()\n",
    "\n",
    "# Store data in a list\n",
    "data = []\n",
    "\n",
    "for doc in docs:\n",
    "    myprod = doc.to_dict()\n",
    "    \n",
    "    # Ensure required fields exist to avoid KeyError\n",
    "    data.append({\n",
    "        \"id\": doc.id,\n",
    "        \"productSuppliers\": myprod.get(\"productSuppliers\", None),\n",
    "        \"name\": myprod.get(\"name\", None),\n",
    "        \"textSearch\": myprod.get(\"textSearch\", None),\n",
    "    })\n",
    "\n",
    "# Convert to DataFrame\n",
    "prod_df = pd.DataFrame(data)\n",
    "\n",
    "# Display DataFrame\n",
    "print(prod_df.head())\n"
   ]
  },
  {
   "cell_type": "code",
   "execution_count": null,
   "metadata": {},
   "outputs": [],
   "source": []
  },
  {
   "cell_type": "code",
   "execution_count": 14,
   "metadata": {},
   "outputs": [],
   "source": [
    "df_product_name = pd.read_csv('octogone_products_cleaned_dedup_final.csv')"
   ]
  },
  {
   "cell_type": "code",
   "execution_count": 15,
   "metadata": {},
   "outputs": [
    {
     "data": {
      "text/html": [
       "<div>\n",
       "<style scoped>\n",
       "    .dataframe tbody tr th:only-of-type {\n",
       "        vertical-align: middle;\n",
       "    }\n",
       "\n",
       "    .dataframe tbody tr th {\n",
       "        vertical-align: top;\n",
       "    }\n",
       "\n",
       "    .dataframe thead th {\n",
       "        text-align: right;\n",
       "    }\n",
       "</style>\n",
       "<table border=\"1\" class=\"dataframe\">\n",
       "  <thead>\n",
       "    <tr style=\"text-align: right;\">\n",
       "      <th></th>\n",
       "      <th>product_id</th>\n",
       "      <th>product_name</th>\n",
       "      <th>translated_product</th>\n",
       "      <th>cleaned_product</th>\n",
       "    </tr>\n",
       "  </thead>\n",
       "  <tbody>\n",
       "    <tr>\n",
       "      <th>0</th>\n",
       "      <td>0000a650e53d21b0611e52b2ed519d5d</td>\n",
       "      <td>Pansa Blanca Alella Espagne</td>\n",
       "      <td>White Raspberry Alella Spain</td>\n",
       "      <td>WHITE RASPBERRY ALELLA SPAIN</td>\n",
       "    </tr>\n",
       "    <tr>\n",
       "      <th>1</th>\n",
       "      <td>00061f6e22f35ce790a93ef01fa14047</td>\n",
       "      <td>Fromage StHonoré</td>\n",
       "      <td>StHonoré cheese</td>\n",
       "      <td>STHONOR CHEESE</td>\n",
       "    </tr>\n",
       "    <tr>\n",
       "      <th>2</th>\n",
       "      <td>000667be92381e018f850053c2ae5ab4</td>\n",
       "      <td>Huile dolive extra vierge</td>\n",
       "      <td>Extra virgin olive oil</td>\n",
       "      <td>EXTRA VIRGIN OLIVE OIL</td>\n",
       "    </tr>\n",
       "    <tr>\n",
       "      <th>3</th>\n",
       "      <td>000a8eb819da914d234272f72baef1e4</td>\n",
       "      <td>Peau de poulet</td>\n",
       "      <td>Chicken skin</td>\n",
       "      <td>CHICKEN SKIN</td>\n",
       "    </tr>\n",
       "    <tr>\n",
       "      <th>4</th>\n",
       "      <td>0014a71dbbddd58a71a897ae8bb0404d</td>\n",
       "      <td>Oignon Rouge Extra Large</td>\n",
       "      <td>Extra Large Red Onion</td>\n",
       "      <td>EXTRA LARGE RED ONION</td>\n",
       "    </tr>\n",
       "  </tbody>\n",
       "</table>\n",
       "</div>"
      ],
      "text/plain": [
       "                         product_id                 product_name  \\\n",
       "0  0000a650e53d21b0611e52b2ed519d5d  Pansa Blanca Alella Espagne   \n",
       "1  00061f6e22f35ce790a93ef01fa14047             Fromage StHonoré   \n",
       "2  000667be92381e018f850053c2ae5ab4    Huile dolive extra vierge   \n",
       "3  000a8eb819da914d234272f72baef1e4               Peau de poulet   \n",
       "4  0014a71dbbddd58a71a897ae8bb0404d     Oignon Rouge Extra Large   \n",
       "\n",
       "             translated_product               cleaned_product  \n",
       "0  White Raspberry Alella Spain  WHITE RASPBERRY ALELLA SPAIN  \n",
       "1               StHonoré cheese                STHONOR CHEESE  \n",
       "2        Extra virgin olive oil        EXTRA VIRGIN OLIVE OIL  \n",
       "3                  Chicken skin                  CHICKEN SKIN  \n",
       "4         Extra Large Red Onion         EXTRA LARGE RED ONION  "
      ]
     },
     "execution_count": 15,
     "metadata": {},
     "output_type": "execute_result"
    }
   ],
   "source": [
    "df_product_name.head()"
   ]
  },
  {
   "cell_type": "code",
   "execution_count": 16,
   "metadata": {},
   "outputs": [
    {
     "name": "stdout",
     "output_type": "stream",
     "text": [
      "                                    id  \\\n",
      "0     00061f6e22f35ce790a93ef01fa14047   \n",
      "1     005da4fb77dbbc4b63edbdd1635f8654   \n",
      "2                 01063MxQwtVWQj0esmob   \n",
      "3     0201855a8452be6e0bea9e805ddee867   \n",
      "4     020547e94e6798d7138ee14f23d9885c   \n",
      "...                                ...   \n",
      "3118              zxiWefJ0dJfbZHXtVOwO   \n",
      "3119              zxpejLpqRncFqmZawNEY   \n",
      "3120              zy2v3m1hyy0CswgarLXO   \n",
      "3121              zzhM52ZE07HhvZU8DUCo   \n",
      "3122              zzuEK7hhGx3zUE5ZZ3Jq   \n",
      "\n",
      "                                       productSuppliers  \\\n",
      "0     {'6O1FtPg5V9woBCwOqtY241150': {'equivalences':...   \n",
      "1     {'nl335PEacrsOYpqR8HRl2370012': {'equivalences...   \n",
      "2                                                    {}   \n",
      "3     {'XzKzAD6uPnLz7JLKBFqn8787005': {'equivalences...   \n",
      "4     {'nl335PEacrsOYpqR8HRl940401': {'equivalences'...   \n",
      "...                                                 ...   \n",
      "3118  {'XzKzAD6uPnLz7JLKBFqn9530026': {'equivalences...   \n",
      "3119  {'2YbkFlGIasSqv7fjssPs597534': {'equivalences'...   \n",
      "3120  {'2YbkFlGIasSqv7fjssPs11724979': {'equivalence...   \n",
      "3121  {'XzKzAD6uPnLz7JLKBFqn1145418': {'equivalences...   \n",
      "3122  {'nl335PEacrsOYpqR8HRl2040021': {'equivalences...   \n",
      "\n",
      "                                              name  \\\n",
      "0                                Fromage St-Honoré   \n",
      "1                             épice Mustard Powder   \n",
      "2                          pain burger sans gluten   \n",
      "3     Assaisonnement ail rôti et poivron une étape   \n",
      "4                        Purée de fraises, congelé   \n",
      "...                                            ...   \n",
      "3118                    Jus de pomme portion 300ml   \n",
      "3119       De Negri Monovitigno Grappa di prosecco   \n",
      "3120                       Coureur des bois whisky   \n",
      "3121                         Tomate des canadienne   \n",
      "3122                                    Kiwi Frais   \n",
      "\n",
      "                                             textSearch  \\\n",
      "0                              Fromage St-Honoré  41150   \n",
      "1                         épice Mustard Powder  2370012   \n",
      "2                               pain burger sans gluten   \n",
      "3     Assaisonnement ail rôti et poivron une étape 9...   \n",
      "4     Purée de fraises, congelé 10408 10890287104082...   \n",
      "...                                                 ...   \n",
      "3118                 Jus de pomme portion 300ml 9530026   \n",
      "3119  De Negri Monovitigno Grappa di prosecco Brandy...   \n",
      "3120  Coureur des bois whisky Inspiré de la plus pur...   \n",
      "3121                      Tomate des canadienne 1145418   \n",
      "3122                  Kiwi Frais 2040021 700973 2040020   \n",
      "\n",
      "                            product_id  \\\n",
      "0     00061f6e22f35ce790a93ef01fa14047   \n",
      "1     005da4fb77dbbc4b63edbdd1635f8654   \n",
      "2                 01063MxQwtVWQj0esmob   \n",
      "3     0201855a8452be6e0bea9e805ddee867   \n",
      "4     020547e94e6798d7138ee14f23d9885c   \n",
      "...                                ...   \n",
      "3118              zxiWefJ0dJfbZHXtVOwO   \n",
      "3119              zxpejLpqRncFqmZawNEY   \n",
      "3120              zy2v3m1hyy0CswgarLXO   \n",
      "3121              zzhM52ZE07HhvZU8DUCo   \n",
      "3122              zzuEK7hhGx3zUE5ZZ3Jq   \n",
      "\n",
      "                                      product_name  \\\n",
      "0                                 Fromage StHonoré   \n",
      "1                             épice Mustard Powder   \n",
      "2                          pain burger sans gluten   \n",
      "3     Assaisonnement ail rôti et poivron une étape   \n",
      "4                                 Purée de fraises   \n",
      "...                                            ...   \n",
      "3118                    Jus de pomme portion 300ml   \n",
      "3119       De Negri Monovitigno Grappa di prosecco   \n",
      "3120                       Coureur des bois whisky   \n",
      "3121                         Tomate des canadienne   \n",
      "3122                                    Kiwi Frais   \n",
      "\n",
      "                                translated_product  \\\n",
      "0                                  StHonoré cheese   \n",
      "1                             Mustard Powder Spice   \n",
      "2                          pain burger sans gluten   \n",
      "3     One-Step Roasted Garlic and Pepper Seasoning   \n",
      "4                                 Strawberry puree   \n",
      "...                                            ...   \n",
      "3118                     Apple juice portion 300ml   \n",
      "3119          De Negri Monovitigno Prosecco Grappa   \n",
      "3120                              Whiskey Woodsman   \n",
      "3121                               Canadian Tomato   \n",
      "3122                                    Fresh Kiwi   \n",
      "\n",
      "                                  cleaned_product  \n",
      "0                                  STHONOR CHEESE  \n",
      "1                            MUSTARD POWDER SPICE  \n",
      "2                         PAIN BURGER SANS GLUTEN  \n",
      "3     ONESTEP ROASTED GARLIC AND PEPPER SEASONING  \n",
      "4                                STRAWBERRY PUREE  \n",
      "...                                           ...  \n",
      "3118                          APPLE JUICE PORTION  \n",
      "3119         DE NEGRI MONOVITIGNO PROSECCO GRAPPA  \n",
      "3120                             WHISKEY WOODSMAN  \n",
      "3121                              CANADIAN TOMATO  \n",
      "3122                                   FRESH KIWI  \n",
      "\n",
      "[3123 rows x 8 columns]\n"
     ]
    }
   ],
   "source": [
    "# Merge prod_df with df_product_name on id = product_id\n",
    "merged_df = prod_df.merge(df_product_name, left_on=\"id\", right_on=\"product_id\", how=\"left\")\n",
    "\n",
    "# Display merged DataFrame\n",
    "print(merged_df)\n"
   ]
  },
  {
   "cell_type": "code",
   "execution_count": 17,
   "metadata": {},
   "outputs": [
    {
     "name": "stdout",
     "output_type": "stream",
     "text": [
      "0                                                                                                                                                                                                                                                                                                                                                                                                                                                                                                                                                                                                                                                                                            {'6O1FtPg5V9woBCwOqtY241150': {'equivalences': [{'isActive': True, 'id': 'ee3e8bb515be11ee9eadfdcd97790229', 'createdId': '08df2ccbc81444b7aaf5ad9a2f71', 'measureType': 1, 'equivalence': {'measureId': 'RtSe4oh5jnIeUSdNH74A', 'qtyOfMeasure': 1}, 'abbreviation': 'KG', 'textSearch': 'kg', 'createdDate': 1688062464507, 'name': 'KG'}], 'supplierId': '6O1FtPg5V9woBCwOqtY2', 'priorityIndex': 0, 'code': '41150'}}\n",
      "1                                                                                                                                                                                                                                                                                                                                                                                                                                                                                                                                                                                                                                                                                        {'nl335PEacrsOYpqR8HRl2370012': {'equivalences': [{'isActive': True, 'id': '2571361115be11eeaadadd8742516478', 'createdId': '010bbb7f485743c3a0d810b568b9', 'measureType': 0, 'equivalence': {'measureId': '4mwgSAFKoNSRfDIZykoL', 'qtyOfMeasure': 3}, 'abbreviation': 'CS', 'textSearch': 'cs', 'createdDate': 1706283625019, 'name': 'CS'}], 'supplierId': 'nl335PEacrsOYpqR8HRl', 'priorityIndex': 0, 'code': '2370012'}}\n",
      "2                                                                                                                                                                                                                                                                                                                                                                                                                                                                                                                                                                                                                                                                                                                                                                                                                                                                                                                                                                                                                                                                                                                  {}\n",
      "3                                                                                                                                                                                                                                                                                                                                                                                                                                                                           {'XzKzAD6uPnLz7JLKBFqn8787005': {'equivalences': [{'isActive': True, 'id': '09b94e2115bf11ee96d5f996c43af3c9', 'createdId': '64fdd83195d8480199d2bd9ff7bf', 'measureType': 0, 'equivalence': {'measureId': '4mwgSAFKoNSRfDIZykoL', 'qtyOfMeasure': 1}, 'abbreviation': 'EA', 'textSearch': 'cs', 'createdDate': 1688063116420, 'name': 'EA'}, {'isActive': True, 'createdId': 'ApiInvoice', 'measureType': 0, 'equivalence': {'measureId': '4mwgSAFKoNSRfDIZykoL', 'qtyOfMeasure': 12}, 'abbreviation': 'CA', 'createdDate': 1699891249311, 'name': 'CA'}], 'supplierId': 'XzKzAD6uPnLz7JLKBFqn', 'priorityIndex': 0, 'code': '8787005'}}\n",
      "4    {'nl335PEacrsOYpqR8HRl940401': {'equivalences': [{'isActive': True, 'id': '4M3kl8Ve0Hf3buvU0gIT', 'createdId': '3c5baf5d85204dde824b30cd5fce', 'measureType': 0, 'equivalence': {'measureId': '4mwgSAFKoNSRfDIZykoL', 'qtyOfMeasure': 4}, 'abbreviation': 'CS', 'createdDate': 1709748675273, 'name': 'CS'}], 'supplierId': 'nl335PEacrsOYpqR8HRl', 'priorityIndex': 1, 'id': 'BOpsH9cAb1csjxCrvGh8', 'code': '940401'}, 'XzKzAD6uPnLz7JLKBFqn1186288': {'equivalences': [{'isActive': True, 'id': '09d5afc115bf11ee96d5f996c43af3c9', 'createdId': '010bbb7f485743c3a0d810b568b9', 'measureType': 0, 'equivalence': {'measureId': '4mwgSAFKoNSRfDIZykoL', 'qtyOfMeasure': 4}, 'abbreviation': 'CS', 'textSearch': 'cs', 'createdDate': 1703870867675, 'name': 'CS'}, {'isActive': True, 'id': 'OUnTJWs4WsU613KhuMLQ', 'createdId': '3c5baf5d85204dde824b30cd5fce', 'measureType': 0, 'equivalence': {'measureId': '4mwgSAFKoNSRfDIZykoL', 'qtyOfMeasure': 4}, 'abbreviation': 'CA', 'createdDate': 1711568935179, 'name': 'CA'}], 'supplierId': 'XzKzAD6uPnLz7JLKBFqn', 'priorityIndex': 0, 'code': '1186288'}}\n",
      "Name: productSuppliers, dtype: object\n"
     ]
    }
   ],
   "source": [
    "pd.set_option(\"display.max_colwidth\", None)\n",
    "\n",
    "# Show first 5 non-null productSuppliers values\n",
    "print(merged_df[\"productSuppliers\"].dropna().head(5))\n",
    "\n"
   ]
  },
  {
   "cell_type": "code",
   "execution_count": 18,
   "metadata": {},
   "outputs": [
    {
     "name": "stdout",
     "output_type": "stream",
     "text": [
      "                        id        name product_name  \\\n",
      "3122  zzuEK7hhGx3zUE5ZZ3Jq  Kiwi Frais   Kiwi Frais   \n",
      "\n",
      "                                                                                                                                                                                                                                                                                                                                                                                                                                                                                                                                                                                                                                                                                                                                                                                                                                                                                                                                                                                                                                                                                                                                                        productSuppliers  \n",
      "3122  {'nl335PEacrsOYpqR8HRl2040021': {'equivalences': [{'isActive': True, 'createdId': '010bbb7f485743c3a0d810b568b9', 'measureType': 0, 'equivalence': {'measureId': '4mwgSAFKoNSRfDIZykoL', 'qtyOfMeasure': 8}, 'abbreviation': 'CS', 'createdDate': 1704382052630, 'name': 'CS'}], 'supplierId': 'nl335PEacrsOYpqR8HRl', 'priorityIndex': 2, 'id': 'g0Z8qE2PjSVTNvjELmdC', 'code': '2040021'}, 'nl335PEacrsOYpqR8HRl2040020': {'equivalences': [{'isActive': True, 'createdId': '010bbb7f485743c3a0d810b568b9', 'measureType': 0, 'equivalence': {'measureId': '4mwgSAFKoNSRfDIZykoL', 'qtyOfMeasure': 42}, 'abbreviation': 'CS', 'createdDate': 1704382052630, 'name': 'CS'}], 'supplierId': 'nl335PEacrsOYpqR8HRl', 'priorityIndex': 1, 'id': 'DZJBN5c7sxyEBn5Ary9i', 'code': '2040020'}, 'UeRNZf0p9FHnx54VTu5j700973': {'equivalences': [{'isActive': True, 'createdId': 'ApiInvoice', 'measureType': 0, 'equivalence': {'measureId': '4mwgSAFKoNSRfDIZykoL', 'qtyOfMeasure': 12}, 'abbreviation': 'UN', 'createdDate': 1700744199551, 'name': 'UN'}], 'supplierId': 'UeRNZf0p9FHnx54VTu5j', 'priorityIndex': 0, 'id': '32Xxd1r17rDKQlADLnkw', 'code': '700973'}}  \n"
     ]
    }
   ],
   "source": [
    "filtered_df = merged_df[merged_df[\"product_id\"] == \"zzuEK7hhGx3zUE5ZZ3Jq\"]\n",
    "\n",
    "# Display the row\n",
    "print(filtered_df[[\"id\", \"name\", \"product_name\", \"productSuppliers\"]])\n",
    "\n",
    "\n"
   ]
  },
  {
   "cell_type": "code",
   "execution_count": 19,
   "metadata": {},
   "outputs": [
    {
     "name": "stdout",
     "output_type": "stream",
     "text": [
      "id                                                                                                                                                                                                                                                                                                                                                                                                                                                                                                                                                                                                                                                                                                                                                                                                                                                                                                                                                                                                                                                                                                                                                                zzuEK7hhGx3zUE5ZZ3Jq\n",
      "name                                                                                                                                                                                                                                                                                                                                                                                                                                                                                                                                                                                                                                                                                                                                                                                                                                                                                                                                                                                                                                                                                                                                                                        Kiwi Frais\n",
      "product_name                                                                                                                                                                                                                                                                                                                                                                                                                                                                                                                                                                                                                                                                                                                                                                                                                                                                                                                                                                                                                                                                                                                                                                Kiwi Frais\n",
      "productSuppliers    {'nl335PEacrsOYpqR8HRl2040021': {'equivalences': [{'isActive': True, 'createdId': '010bbb7f485743c3a0d810b568b9', 'measureType': 0, 'equivalence': {'measureId': '4mwgSAFKoNSRfDIZykoL', 'qtyOfMeasure': 8}, 'abbreviation': 'CS', 'createdDate': 1704382052630, 'name': 'CS'}], 'supplierId': 'nl335PEacrsOYpqR8HRl', 'priorityIndex': 2, 'id': 'g0Z8qE2PjSVTNvjELmdC', 'code': '2040021'}, 'nl335PEacrsOYpqR8HRl2040020': {'equivalences': [{'isActive': True, 'createdId': '010bbb7f485743c3a0d810b568b9', 'measureType': 0, 'equivalence': {'measureId': '4mwgSAFKoNSRfDIZykoL', 'qtyOfMeasure': 42}, 'abbreviation': 'CS', 'createdDate': 1704382052630, 'name': 'CS'}], 'supplierId': 'nl335PEacrsOYpqR8HRl', 'priorityIndex': 1, 'id': 'DZJBN5c7sxyEBn5Ary9i', 'code': '2040020'}, 'UeRNZf0p9FHnx54VTu5j700973': {'equivalences': [{'isActive': True, 'createdId': 'ApiInvoice', 'measureType': 0, 'equivalence': {'measureId': '4mwgSAFKoNSRfDIZykoL', 'qtyOfMeasure': 12}, 'abbreviation': 'UN', 'createdDate': 1700744199551, 'name': 'UN'}], 'supplierId': 'UeRNZf0p9FHnx54VTu5j', 'priorityIndex': 0, 'id': '32Xxd1r17rDKQlADLnkw', 'code': '700973'}}\n",
      "Name: 3122, dtype: object\n"
     ]
    }
   ],
   "source": [
    "selected_df = filtered_df[[\"id\", \"name\", \"product_name\", \"productSuppliers\"]]\n",
    "\n",
    "# Display the new DataFrame\n",
    "print(selected_df.iloc[0])\n"
   ]
  },
  {
   "cell_type": "code",
   "execution_count": 20,
   "metadata": {},
   "outputs": [
    {
     "name": "stdout",
     "output_type": "stream",
     "text": [
      "Empty DataFrame\n",
      "Columns: [id, productSuppliers, name, textSearch, product_id, product_name, translated_product, cleaned_product]\n",
      "Index: []\n"
     ]
    }
   ],
   "source": [
    "# Filter rows where productSuppliers contains productSupplier.id = '1fU2P79RXOWhxkCmKax6'\n",
    "filtered_df = merged_df[\n",
    "    merged_df[\"productSuppliers\"].apply(\n",
    "        lambda suppliers: isinstance(suppliers, list) and any(\n",
    "            supplier.get(\"id\") == \"1fU2P79RXOWhxkCmKax6\" for supplier in suppliers\n",
    "        )\n",
    "    )\n",
    "]\n",
    "\n",
    "# Display the filtered DataFrame\n",
    "print(filtered_df)"
   ]
  },
  {
   "cell_type": "code",
   "execution_count": 21,
   "metadata": {},
   "outputs": [
    {
     "name": "stdout",
     "output_type": "stream",
     "text": [
      "                            product_id           supplier_id product_code  \\\n",
      "0     00061f6e22f35ce790a93ef01fa14047  6O1FtPg5V9woBCwOqtY2        41150   \n",
      "1     005da4fb77dbbc4b63edbdd1635f8654  nl335PEacrsOYpqR8HRl      2370012   \n",
      "2     0201855a8452be6e0bea9e805ddee867  XzKzAD6uPnLz7JLKBFqn      8787005   \n",
      "3     020547e94e6798d7138ee14f23d9885c  nl335PEacrsOYpqR8HRl       940401   \n",
      "4     020547e94e6798d7138ee14f23d9885c  XzKzAD6uPnLz7JLKBFqn      1186288   \n",
      "...                                ...                   ...          ...   \n",
      "3953              zy2v3m1hyy0CswgarLXO  2YbkFlGIasSqv7fjssPs     11724979   \n",
      "3954              zzhM52ZE07HhvZU8DUCo  XzKzAD6uPnLz7JLKBFqn      1145418   \n",
      "3955              zzuEK7hhGx3zUE5ZZ3Jq  nl335PEacrsOYpqR8HRl      2040021   \n",
      "3956              zzuEK7hhGx3zUE5ZZ3Jq  nl335PEacrsOYpqR8HRl      2040020   \n",
      "3957              zzuEK7hhGx3zUE5ZZ3Jq  UeRNZf0p9FHnx54VTu5j       700973   \n",
      "\n",
      "      priorityIndex  \\\n",
      "0               0.0   \n",
      "1               0.0   \n",
      "2               0.0   \n",
      "3               1.0   \n",
      "4               0.0   \n",
      "...             ...   \n",
      "3953            0.0   \n",
      "3954            0.0   \n",
      "3955            2.0   \n",
      "3956            1.0   \n",
      "3957            0.0   \n",
      "\n",
      "                                                                                                                                                                                                                                                                                                                                                                                                                                                                                                                                                                                                                                                                                                                                                                                                                                                                                                                                                                equivalences  \n",
      "0                                                                                                                                                                                                                                                                                                                                                                                                                                                                                                                                                                                                                                                                               [{'isActive': True, 'id': 'ee3e8bb515be11ee9eadfdcd97790229', 'createdId': '08df2ccbc81444b7aaf5ad9a2f71', 'measureType': 1, 'equivalence': {'measureId': 'RtSe4oh5jnIeUSdNH74A', 'qtyOfMeasure': 1}, 'abbreviation': 'KG', 'textSearch': 'kg', 'createdDate': 1688062464507, 'name': 'KG'}]  \n",
      "1                                                                                                                                                                                                                                                                                                                                                                                                                                                                                                                                                                                                                                                                               [{'isActive': True, 'id': '2571361115be11eeaadadd8742516478', 'createdId': '010bbb7f485743c3a0d810b568b9', 'measureType': 0, 'equivalence': {'measureId': '4mwgSAFKoNSRfDIZykoL', 'qtyOfMeasure': 3}, 'abbreviation': 'CS', 'textSearch': 'cs', 'createdDate': 1706283625019, 'name': 'CS'}]  \n",
      "2                                                                                                                                                                                                                                                                                                                                                                                                                                                                  [{'isActive': True, 'id': '09b94e2115bf11ee96d5f996c43af3c9', 'createdId': '64fdd83195d8480199d2bd9ff7bf', 'measureType': 0, 'equivalence': {'measureId': '4mwgSAFKoNSRfDIZykoL', 'qtyOfMeasure': 1}, 'abbreviation': 'EA', 'textSearch': 'cs', 'createdDate': 1688063116420, 'name': 'EA'}, {'isActive': True, 'createdId': 'ApiInvoice', 'measureType': 0, 'equivalence': {'measureId': '4mwgSAFKoNSRfDIZykoL', 'qtyOfMeasure': 12}, 'abbreviation': 'CA', 'createdDate': 1699891249311, 'name': 'CA'}]  \n",
      "3                                                                                                                                                                                                                                                                                                                                                                                                                                                                                                                                                                                                                                                                                                               [{'isActive': True, 'id': '4M3kl8Ve0Hf3buvU0gIT', 'createdId': '3c5baf5d85204dde824b30cd5fce', 'measureType': 0, 'equivalence': {'measureId': '4mwgSAFKoNSRfDIZykoL', 'qtyOfMeasure': 4}, 'abbreviation': 'CS', 'createdDate': 1709748675273, 'name': 'CS'}]  \n",
      "4                                                                                                                                                                                                                                                                                                                                                                                                                   [{'isActive': True, 'id': '09d5afc115bf11ee96d5f996c43af3c9', 'createdId': '010bbb7f485743c3a0d810b568b9', 'measureType': 0, 'equivalence': {'measureId': '4mwgSAFKoNSRfDIZykoL', 'qtyOfMeasure': 4}, 'abbreviation': 'CS', 'textSearch': 'cs', 'createdDate': 1703870867675, 'name': 'CS'}, {'isActive': True, 'id': 'OUnTJWs4WsU613KhuMLQ', 'createdId': '3c5baf5d85204dde824b30cd5fce', 'measureType': 0, 'equivalence': {'measureId': '4mwgSAFKoNSRfDIZykoL', 'qtyOfMeasure': 4}, 'abbreviation': 'CA', 'createdDate': 1711568935179, 'name': 'CA'}]  \n",
      "...                                                                                                                                                                                                                                                                                                                                                                                                                                                                                                                                                                                                                                                                                                                                                                                                                                                                                                                                                                      ...  \n",
      "3953                                                                                                                                                                                                                                                                                                                                                                                                                                                                                                                                                                                                                                                                                                                                          [{'isActive': True, 'createdId': 'c5f0fb9264d94094b9a27d199297', 'measureType': 0, 'equivalence': {'measureId': '4mwgSAFKoNSRfDIZykoL', 'qtyOfMeasure': 1}, 'abbreviation': 'BT', 'createdDate': 1708469727592, 'name': 'BT'}]  \n",
      "3954  [{'isActive': True, 'createdId': '010bbb7f485743c3a0d810b568b9', 'measureType': 0, 'equivalence': {'measureId': '4mwgSAFKoNSRfDIZykoL', 'qtyOfMeasure': 6}, 'abbreviation': 'CS', 'createdDate': 1698864216327, 'name': 'CS'}, {'isActive': True, 'createdId': 'ApiInvoice', 'measureType': 2, 'equivalence': {'measureId': 'lCDrg9U0L5F0q2tHZzYS', 'qtyOfMeasure': 17.04}, 'abbreviation': 'CA', 'createdDate': 1699372857144, 'name': 'CA'}, {'isActive': True, 'id': 'XYWmRQbroG81rwIxXu90', 'createdId': '3c5baf5d85204dde824b30cd5fce', 'measureType': 0, 'equivalence': {'measureId': '4mwgSAFKoNSRfDIZykoL', 'qtyOfMeasure': 1}, 'abbreviation': 'UN', 'createdDate': 1711569483571, 'name': 'UN'}, {'isActive': True, 'id': 'zvMCh78UDKmh0EiKhd4C', 'createdId': '3c5baf5d85204dde824b30cd5fce', 'measureType': 0, 'equivalence': {'measureId': '4mwgSAFKoNSRfDIZykoL', 'qtyOfMeasure': 1}, 'abbreviation': 'EA', 'createdDate': 1711569483571, 'name': 'EA'}]  \n",
      "3955                                                                                                                                                                                                                                                                                                                                                                                                                                                                                                                                                                                                                                                                                                                                          [{'isActive': True, 'createdId': '010bbb7f485743c3a0d810b568b9', 'measureType': 0, 'equivalence': {'measureId': '4mwgSAFKoNSRfDIZykoL', 'qtyOfMeasure': 8}, 'abbreviation': 'CS', 'createdDate': 1704382052630, 'name': 'CS'}]  \n",
      "3956                                                                                                                                                                                                                                                                                                                                                                                                                                                                                                                                                                                                                                                                                                                                         [{'isActive': True, 'createdId': '010bbb7f485743c3a0d810b568b9', 'measureType': 0, 'equivalence': {'measureId': '4mwgSAFKoNSRfDIZykoL', 'qtyOfMeasure': 42}, 'abbreviation': 'CS', 'createdDate': 1704382052630, 'name': 'CS'}]  \n",
      "3957                                                                                                                                                                                                                                                                                                                                                                                                                                                                                                                                                                                                                                                                                                                                                           [{'isActive': True, 'createdId': 'ApiInvoice', 'measureType': 0, 'equivalence': {'measureId': '4mwgSAFKoNSRfDIZykoL', 'qtyOfMeasure': 12}, 'abbreviation': 'UN', 'createdDate': 1700744199551, 'name': 'UN'}]  \n",
      "\n",
      "[3958 rows x 5 columns]\n"
     ]
    }
   ],
   "source": [
    "supplier_data = []\n",
    "\n",
    "for index, suppliers in merged_df[\"productSuppliers\"].dropna().items():\n",
    "    if isinstance(suppliers, dict):  # Ensure it's a dictionary\n",
    "        for supplier_key, supplier_info in suppliers.items():\n",
    "            supplier_data.append({\n",
    "                \"product_id\": merged_df.loc[index, \"id\"],  # Original product ID\n",
    "                \"supplier_id\": supplier_info.get(\"supplierId\", None),\n",
    "                \"product_code\": supplier_info.get(\"code\", None),\n",
    "                \"priorityIndex\": supplier_info.get(\"priorityIndex\", None),\n",
    "                \"equivalences\": supplier_info.get(\"equivalences\", []),\n",
    "            })\n",
    "\n",
    "# Convert to DataFrame\n",
    "supplier_df = pd.DataFrame(supplier_data)\n",
    "\n",
    "# Display DataFrame\n",
    "print(supplier_df)\n"
   ]
  },
  {
   "cell_type": "code",
   "execution_count": 22,
   "metadata": {},
   "outputs": [
    {
     "name": "stdout",
     "output_type": "stream",
     "text": [
      "                            product_id           supplier_id product_code  \\\n",
      "0     00061f6e22f35ce790a93ef01fa14047  6O1FtPg5V9woBCwOqtY2        41150   \n",
      "1     005da4fb77dbbc4b63edbdd1635f8654  nl335PEacrsOYpqR8HRl      2370012   \n",
      "2     0201855a8452be6e0bea9e805ddee867  XzKzAD6uPnLz7JLKBFqn      8787005   \n",
      "3     0201855a8452be6e0bea9e805ddee867  XzKzAD6uPnLz7JLKBFqn      8787005   \n",
      "4     020547e94e6798d7138ee14f23d9885c  nl335PEacrsOYpqR8HRl       940401   \n",
      "...                                ...                   ...          ...   \n",
      "4061              zzhM52ZE07HhvZU8DUCo  XzKzAD6uPnLz7JLKBFqn      1145418   \n",
      "4062              zzhM52ZE07HhvZU8DUCo  XzKzAD6uPnLz7JLKBFqn      1145418   \n",
      "4063              zzuEK7hhGx3zUE5ZZ3Jq  nl335PEacrsOYpqR8HRl      2040021   \n",
      "4064              zzuEK7hhGx3zUE5ZZ3Jq  nl335PEacrsOYpqR8HRl      2040020   \n",
      "4065              zzuEK7hhGx3zUE5ZZ3Jq  UeRNZf0p9FHnx54VTu5j       700973   \n",
      "\n",
      "                measure_id  qty_of_measure abbreviation  \n",
      "0     RtSe4oh5jnIeUSdNH74A             1.0           KG  \n",
      "1     4mwgSAFKoNSRfDIZykoL             3.0           CS  \n",
      "2     4mwgSAFKoNSRfDIZykoL             1.0           EA  \n",
      "3     4mwgSAFKoNSRfDIZykoL            12.0           CA  \n",
      "4     4mwgSAFKoNSRfDIZykoL             4.0           CS  \n",
      "...                    ...             ...          ...  \n",
      "4061  4mwgSAFKoNSRfDIZykoL             1.0           UN  \n",
      "4062  4mwgSAFKoNSRfDIZykoL             1.0           EA  \n",
      "4063  4mwgSAFKoNSRfDIZykoL             8.0           CS  \n",
      "4064  4mwgSAFKoNSRfDIZykoL            42.0           CS  \n",
      "4065  4mwgSAFKoNSRfDIZykoL            12.0           UN  \n",
      "\n",
      "[4066 rows x 6 columns]\n"
     ]
    }
   ],
   "source": [
    "equivalence_data = []\n",
    "\n",
    "for _, row in supplier_df.iterrows():\n",
    "    for eq in row[\"equivalences\"]:\n",
    "        equivalence_data.append({\n",
    "            \"product_id\": row[\"product_id\"],\n",
    "            \"supplier_id\": row[\"supplier_id\"],\n",
    "            \"product_code\": row[\"product_code\"],cleaned_products.ipynb\n",
    "            \"measure_id\": eq.get(\"equivalence\", {}).get(\"measureId\", None),\n",
    "            \"qty_of_measure\": eq.get(\"equivalence\", {}).get(\"qtyOfMeasure\", None),\n",
    "            \"abbreviation\": eq.get(\"abbreviation\", None),\n",
    "        })\n",
    "\n",
    "# Convert to DataFrame\n",
    "equivalence_df = pd.DataFrame(equivalence_data)\n",
    "\n",
    "# Display DataFrame\n",
    "print(equivalence_df)\n"
   ]
  },
  {
   "cell_type": "code",
   "execution_count": 23,
   "metadata": {},
   "outputs": [
    {
     "name": "stdout",
     "output_type": "stream",
     "text": [
      "                            product_id  \\\n",
      "0     00061f6e22f35ce790a93ef01fa14047   \n",
      "1     005da4fb77dbbc4b63edbdd1635f8654   \n",
      "2     0201855a8452be6e0bea9e805ddee867   \n",
      "3     0201855a8452be6e0bea9e805ddee867   \n",
      "4     020547e94e6798d7138ee14f23d9885c   \n",
      "...                                ...   \n",
      "4809              zzhM52ZE07HhvZU8DUCo   \n",
      "4810              zzhM52ZE07HhvZU8DUCo   \n",
      "4811              zzuEK7hhGx3zUE5ZZ3Jq   \n",
      "4812              zzuEK7hhGx3zUE5ZZ3Jq   \n",
      "4813              zzuEK7hhGx3zUE5ZZ3Jq   \n",
      "\n",
      "                                              name           supplier_id  \\\n",
      "0                                Fromage St-Honoré  6O1FtPg5V9woBCwOqtY2   \n",
      "1                             épice Mustard Powder  nl335PEacrsOYpqR8HRl   \n",
      "2     Assaisonnement ail rôti et poivron une étape  XzKzAD6uPnLz7JLKBFqn   \n",
      "3     Assaisonnement ail rôti et poivron une étape  XzKzAD6uPnLz7JLKBFqn   \n",
      "4                        Purée de fraises, congelé  nl335PEacrsOYpqR8HRl   \n",
      "...                                            ...                   ...   \n",
      "4809                         Tomate des canadienne  XzKzAD6uPnLz7JLKBFqn   \n",
      "4810                         Tomate des canadienne  XzKzAD6uPnLz7JLKBFqn   \n",
      "4811                                    Kiwi Frais  nl335PEacrsOYpqR8HRl   \n",
      "4812                                    Kiwi Frais  nl335PEacrsOYpqR8HRl   \n",
      "4813                                    Kiwi Frais  UeRNZf0p9FHnx54VTu5j   \n",
      "\n",
      "     product_code  priorityIndex            measure_id  qty_of_measure  \\\n",
      "0           41150            0.0  RtSe4oh5jnIeUSdNH74A             1.0   \n",
      "1         2370012            0.0  4mwgSAFKoNSRfDIZykoL             3.0   \n",
      "2         8787005            0.0  4mwgSAFKoNSRfDIZykoL             1.0   \n",
      "3         8787005            0.0  4mwgSAFKoNSRfDIZykoL            12.0   \n",
      "4          940401            1.0  4mwgSAFKoNSRfDIZykoL             4.0   \n",
      "...           ...            ...                   ...             ...   \n",
      "4809      1145418            0.0  4mwgSAFKoNSRfDIZykoL             1.0   \n",
      "4810      1145418            0.0  4mwgSAFKoNSRfDIZykoL             1.0   \n",
      "4811      2040021            2.0  4mwgSAFKoNSRfDIZykoL             8.0   \n",
      "4812      2040020            1.0  4mwgSAFKoNSRfDIZykoL            42.0   \n",
      "4813       700973            0.0  4mwgSAFKoNSRfDIZykoL            12.0   \n",
      "\n",
      "     abbreviation  \n",
      "0              KG  \n",
      "1              CS  \n",
      "2              EA  \n",
      "3              CA  \n",
      "4              CS  \n",
      "...           ...  \n",
      "4809           UN  \n",
      "4810           EA  \n",
      "4811           CS  \n",
      "4812           CS  \n",
      "4813           UN  \n",
      "\n",
      "[4814 rows x 8 columns]\n"
     ]
    }
   ],
   "source": [
    "import pandas as pd\n",
    "\n",
    "# Step 1: Extract supplier-level data with product name\n",
    "supplier_data = []\n",
    "\n",
    "for index, suppliers in merged_df[\"productSuppliers\"].dropna().items():\n",
    "    if isinstance(suppliers, dict):  # Ensure it's a dictionary\n",
    "        for supplier_key, supplier_info in suppliers.items():\n",
    "            supplier_data.append({\n",
    "                \"product_id\": merged_df.loc[index, \"id\"],  # Original product ID\n",
    "                \"name\": merged_df.loc[index, \"name\"],  # Product Name\n",
    "                \"supplier_id\": supplier_info.get(\"supplierId\", None),\n",
    "                \"product_code\": supplier_info.get(\"code\", None),\n",
    "                \"priorityIndex\": supplier_info.get(\"priorityIndex\", None),\n",
    "                \"equivalences\": supplier_info.get(\"equivalences\", []),\n",
    "            })\n",
    "\n",
    "supplier_df = pd.DataFrame(supplier_data)\n",
    "\n",
    "# Step 2: Extract equivalence-level data\n",
    "equivalence_data = []\n",
    "\n",
    "for _, row in supplier_df.iterrows():\n",
    "    for eq in row[\"equivalences\"]:\n",
    "        equivalence_data.append({\n",
    "            \"product_id\": row[\"product_id\"],\n",
    "            \"name\": row[\"name\"],  # Keep product name\n",
    "            \"supplier_id\": row[\"supplier_id\"],\n",
    "            \"product_code\": row[\"product_code\"],\n",
    "            \"measure_id\": eq.get(\"equivalence\", {}).get(\"measureId\", None),\n",
    "            \"qty_of_measure\": eq.get(\"equivalence\", {}).get(\"qtyOfMeasure\", None),\n",
    "            \"abbreviation\": eq.get(\"abbreviation\", None),\n",
    "        })\n",
    "\n",
    "equivalence_df = pd.DataFrame(equivalence_data)\n",
    "\n",
    "# Step 3: Merge supplier_df and equivalence_df\n",
    "final_df = supplier_df.drop(columns=[\"equivalences\"]).merge(equivalence_df, on=[\"product_id\", \"name\", \"supplier_id\", \"product_code\"], how=\"left\")\n",
    "\n",
    "# Display final DataFrame\n",
    "print(final_df)\n"
   ]
  },
  {
   "cell_type": "code",
   "execution_count": 63,
   "metadata": {},
   "outputs": [],
   "source": [
    "final_df.to_csv('final_df.csv', index=False)"
   ]
  },
  {
   "cell_type": "code",
   "execution_count": 24,
   "metadata": {},
   "outputs": [
    {
     "name": "stdout",
     "output_type": "stream",
     "text": [
      "              supplier_id                                     supplier_name  \\\n",
      "0    0JPaDkdZH6hgujFNJSxP                                   Jac le chévrier   \n",
      "1    1J1XBpih7Q8qizuedlIl                                   Vente du Dragon   \n",
      "2    1NyBnJ01NQ22uBlpqgRl                         Lavage de vitres National   \n",
      "3    1WiKS8nniLKUv1Is0JMe                      Heritage Food Service Gr Can   \n",
      "4    1fU2P79RXOWhxkCmKax6                                    Maison JoyHill   \n",
      "..                    ...                                               ...   \n",
      "395  zNaZYFe3xadoPZ5HMRWu  Pierre cloutier.  proprietaire. alain reparateur   \n",
      "396  zYSV4NtorWdezKcuQx4i                     Fleury et Associés - Notaires   \n",
      "397  zhkvaVEjTLOZPdc5DS2s                                          Alambika   \n",
      "398  zlHH6BsWf4nubov4pfS8                                    Morille Québec   \n",
      "399  znUz8Jkxx9gSp69hvOcl                       La Villa vinaigre et jardin   \n",
      "\n",
      "    supplier_email                            supplier_website  \n",
      "0             None                                        None  \n",
      "1             None                                        None  \n",
      "2             None         https://lavagedevitresnational.com/  \n",
      "3             None                                        None  \n",
      "4             None                  https://maisonjoyhill.com/  \n",
      "..             ...                                         ...  \n",
      "395           None                                        None  \n",
      "396           None                  https://notaire-quebec.ca/  \n",
      "397           None                                        None  \n",
      "398           None                  https://morillequebec.com/  \n",
      "399           None  https://www.facebook.com/lavillavinaigres/  \n",
      "\n",
      "[400 rows x 4 columns]\n"
     ]
    }
   ],
   "source": [
    "# Reference to suppliers collection\n",
    "suppliers_ref = (\n",
    "    db.collection(\"clients\")\n",
    "    .document(\"chezRioux\")\n",
    "    .collection(\"establishments\")\n",
    "    .document(\"global\")\n",
    "    .collection(\"suppliers\")\n",
    ")\n",
    "\n",
    "# Fetch suppliers\n",
    "supplier_docs = suppliers_ref.stream()\n",
    "\n",
    "# Store supplier data in a list\n",
    "supplier_data = []\n",
    "\n",
    "for doc in supplier_docs:\n",
    "    supplier_info = doc.to_dict()\n",
    "    supplier_data.append({\n",
    "        \"supplier_id\": doc.id,  # Firestore document ID\n",
    "        \"supplier_name\": supplier_info.get(\"name\", None),\n",
    "        \"supplier_email\": supplier_info.get(\"email\", None),\n",
    "        \"supplier_website\": supplier_info.get(\"website\", None),\n",
    "    })\n",
    "\n",
    "# Convert supplier data to DataFrame\n",
    "supplier_df = pd.DataFrame(supplier_data)\n",
    "\n",
    "# Display the supplier DataFrame\n",
    "print(supplier_df)\n",
    "\n",
    "\n"
   ]
  },
  {
   "cell_type": "code",
   "execution_count": 25,
   "metadata": {},
   "outputs": [
    {
     "name": "stdout",
     "output_type": "stream",
     "text": [
      "                            product_id  \\\n",
      "0     00061f6e22f35ce790a93ef01fa14047   \n",
      "1     005da4fb77dbbc4b63edbdd1635f8654   \n",
      "2     0201855a8452be6e0bea9e805ddee867   \n",
      "3     0201855a8452be6e0bea9e805ddee867   \n",
      "4     020547e94e6798d7138ee14f23d9885c   \n",
      "...                                ...   \n",
      "4809              zzhM52ZE07HhvZU8DUCo   \n",
      "4810              zzhM52ZE07HhvZU8DUCo   \n",
      "4811              zzuEK7hhGx3zUE5ZZ3Jq   \n",
      "4812              zzuEK7hhGx3zUE5ZZ3Jq   \n",
      "4813              zzuEK7hhGx3zUE5ZZ3Jq   \n",
      "\n",
      "                                              name           supplier_id  \\\n",
      "0                                Fromage St-Honoré  6O1FtPg5V9woBCwOqtY2   \n",
      "1                             épice Mustard Powder  nl335PEacrsOYpqR8HRl   \n",
      "2     Assaisonnement ail rôti et poivron une étape  XzKzAD6uPnLz7JLKBFqn   \n",
      "3     Assaisonnement ail rôti et poivron une étape  XzKzAD6uPnLz7JLKBFqn   \n",
      "4                        Purée de fraises, congelé  nl335PEacrsOYpqR8HRl   \n",
      "...                                            ...                   ...   \n",
      "4809                         Tomate des canadienne  XzKzAD6uPnLz7JLKBFqn   \n",
      "4810                         Tomate des canadienne  XzKzAD6uPnLz7JLKBFqn   \n",
      "4811                                    Kiwi Frais  nl335PEacrsOYpqR8HRl   \n",
      "4812                                    Kiwi Frais  nl335PEacrsOYpqR8HRl   \n",
      "4813                                    Kiwi Frais  UeRNZf0p9FHnx54VTu5j   \n",
      "\n",
      "     product_code  priorityIndex            measure_id  qty_of_measure  \\\n",
      "0           41150            0.0  RtSe4oh5jnIeUSdNH74A             1.0   \n",
      "1         2370012            0.0  4mwgSAFKoNSRfDIZykoL             3.0   \n",
      "2         8787005            0.0  4mwgSAFKoNSRfDIZykoL             1.0   \n",
      "3         8787005            0.0  4mwgSAFKoNSRfDIZykoL            12.0   \n",
      "4          940401            1.0  4mwgSAFKoNSRfDIZykoL             4.0   \n",
      "...           ...            ...                   ...             ...   \n",
      "4809      1145418            0.0  4mwgSAFKoNSRfDIZykoL             1.0   \n",
      "4810      1145418            0.0  4mwgSAFKoNSRfDIZykoL             1.0   \n",
      "4811      2040021            2.0  4mwgSAFKoNSRfDIZykoL             8.0   \n",
      "4812      2040020            1.0  4mwgSAFKoNSRfDIZykoL            42.0   \n",
      "4813       700973            0.0  4mwgSAFKoNSRfDIZykoL            12.0   \n",
      "\n",
      "     abbreviation                   supplier_name supplier_email  \\\n",
      "0              KG                          Saputo           None   \n",
      "1              CS      FLB Solutions Alimentaires           None   \n",
      "2              EA  GFS Service alimentaire Gordon           None   \n",
      "3              CA  GFS Service alimentaire Gordon           None   \n",
      "4              CS      FLB Solutions Alimentaires           None   \n",
      "...           ...                             ...            ...   \n",
      "4809           UN  GFS Service alimentaire Gordon           None   \n",
      "4810           EA  GFS Service alimentaire Gordon           None   \n",
      "4811           CS      FLB Solutions Alimentaires           None   \n",
      "4812           CS      FLB Solutions Alimentaires           None   \n",
      "4813           UN                         Viandex           None   \n",
      "\n",
      "                                                                                                                    supplier_website  \n",
      "0     https://www.saputo.ca/fr-ca?gclid=Cj0KCQjwlemWBhDUARIsAFp1rLXT7dU8Sx5Y6S127uC3-DpfoCtrbkZfEHvn1i9BTxDg1cMxIEqBiLEaAtltEALw_wcB  \n",
      "1                                                                                                      https://www.flbsolutions.com/  \n",
      "2                                                                                                              https://www.gfs.ca/fr  \n",
      "3                                                                                                              https://www.gfs.ca/fr  \n",
      "4                                                                                                      https://www.flbsolutions.com/  \n",
      "...                                                                                                                              ...  \n",
      "4809                                                                                                           https://www.gfs.ca/fr  \n",
      "4810                                                                                                           https://www.gfs.ca/fr  \n",
      "4811                                                                                                   https://www.flbsolutions.com/  \n",
      "4812                                                                                                   https://www.flbsolutions.com/  \n",
      "4813                                                                                                         http://www.viandex.com/  \n",
      "\n",
      "[4814 rows x 11 columns]\n"
     ]
    }
   ],
   "source": [
    "# Merge final_df with supplier_df on 'supplier_id'\n",
    "final_df = final_df.merge(supplier_df, on=\"supplier_id\", how=\"left\")\n",
    "\n",
    "# Display the updated DataFrame\n",
    "print(final_df)\n"
   ]
  },
  {
   "cell_type": "code",
   "execution_count": 27,
   "metadata": {},
   "outputs": [
    {
     "name": "stdout",
     "output_type": "stream",
     "text": [
      "Export complete: final_products_suppliers.xlsx\n"
     ]
    }
   ],
   "source": [
    "# Export final_df to an Excel file\n",
    "final_df.to_excel(\"final_products_suppliers.xlsx\", index=False)\n",
    "\n",
    "print(\"Export complete: final_products_suppliers.xlsx\")\n"
   ]
  }
 ],
 "metadata": {
  "kernelspec": {
   "display_name": "venv",
   "language": "python",
   "name": "python3"
  },
  "language_info": {
   "codemirror_mode": {
    "name": "ipython",
    "version": 3
   },
   "file_extension": ".py",
   "mimetype": "text/x-python",
   "name": "python",
   "nbconvert_exporter": "python",
   "pygments_lexer": "ipython3",
   "version": "3.12.9"
  }
 },
 "nbformat": 4,
 "nbformat_minor": 2
}
