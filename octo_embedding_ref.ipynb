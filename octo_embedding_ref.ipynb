{
 "cells": [
  {
   "cell_type": "code",
   "execution_count": 2,
   "metadata": {},
   "outputs": [],
   "source": [
    "from google.cloud import bigquery"
   ]
  },
  {
   "cell_type": "code",
   "execution_count": 4,
   "metadata": {},
   "outputs": [],
   "source": [
    "\n",
    "client = bigquery.Client()\n",
    "dataset_id = \"octogone-2024.octogone_ref\"\n",
    "table_id = \"octo_embed_search\"\n"
   ]
  },
  {
   "cell_type": "code",
   "execution_count": 5,
   "metadata": {},
   "outputs": [
    {
     "name": "stdout",
     "output_type": "stream",
     "text": [
      "Table octo_embed_search created successfully.\n"
     ]
    }
   ],
   "source": [
    "schema = [\n",
    "    bigquery.SchemaField(\"family_id\", \"STRING\"),\n",
    "    bigquery.SchemaField(\"family_code\", \"INT64\"),\n",
    "    bigquery.SchemaField(\"family_name_fr\", \"STRING\"),\n",
    "    bigquery.SchemaField(\"family_name_en\", \"STRING\"),\n",
    "    bigquery.SchemaField(\"family_name_es\", \"STRING\"),\n",
    "    bigquery.SchemaField(\"family_image\", \"STRING\"),\n",
    "    bigquery.SchemaField(\"category_id\", \"STRING\"),\n",
    "    bigquery.SchemaField(\"category_code\", \"INT64\"),\n",
    "    bigquery.SchemaField(\"category_name_fr\", \"STRING\"),\n",
    "    bigquery.SchemaField(\"category_name_en\", \"STRING\"),\n",
    "    bigquery.SchemaField(\"category_name_es\", \"STRING\"),\n",
    "    bigquery.SchemaField(\"category_image\", \"STRING\"),\n",
    "    bigquery.SchemaField(\"subcategory_id\", \"STRING\"),\n",
    "    bigquery.SchemaField(\"subcategory_code\", \"INT64\"),\n",
    "    bigquery.SchemaField(\"subcategory_name_fr\", \"STRING\"),\n",
    "    bigquery.SchemaField(\"subcategory_name_en\", \"STRING\"),\n",
    "    bigquery.SchemaField(\"subcategory_name_es\", \"STRING\"),\n",
    "    bigquery.SchemaField(\"subcategory_image\", \"STRING\"),\n",
    "    bigquery.SchemaField(\"product_id\", \"STRING\"),\n",
    "    bigquery.SchemaField(\"product_code\", \"INT64\"),\n",
    "    bigquery.SchemaField(\"product_name_fr\", \"STRING\"),\n",
    "    bigquery.SchemaField(\"product_name_en\", \"STRING\"),\n",
    "    bigquery.SchemaField(\"product_name_es\", \"STRING\"),\n",
    "    bigquery.SchemaField(\"product_image\", \"STRING\"),\n",
    "    bigquery.SchemaField(\"search_embedding\", \"FLOAT64\", mode=\"REPEATED\"),  # ARRAY<FLOAT64>\n",
    "    bigquery.SchemaField(\"uuid\", \"STRING\"),\n",
    "]\n",
    "\n",
    "table = bigquery.Table(f\"{dataset_id}.{table_id}\", schema=schema)\n",
    "client.create_table(table)\n",
    "print(f\"Table {table_id} created successfully.\")"
   ]
  }
 ],
 "metadata": {
  "kernelspec": {
   "display_name": "venv",
   "language": "python",
   "name": "python3"
  },
  "language_info": {
   "codemirror_mode": {
    "name": "ipython",
    "version": 3
   },
   "file_extension": ".py",
   "mimetype": "text/x-python",
   "name": "python",
   "nbconvert_exporter": "python",
   "pygments_lexer": "ipython3",
   "version": "3.12.9"
  }
 },
 "nbformat": 4,
 "nbformat_minor": 2
}
