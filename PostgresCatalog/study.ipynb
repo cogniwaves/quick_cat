{
 "cells": [
  {
   "cell_type": "code",
   "execution_count": 1,
   "metadata": {},
   "outputs": [
    {
     "name": "stdout",
     "output_type": "stream",
     "text": [
      "                                           FamilyTitle  FamilyCode\n",
      "14     Fruits/Vegetables/Nuts/Seeds Prepared/Processed    50100000\n",
      "23                                    Fish and Seafood    50120000\n",
      "16   Milk/Butter/Cream/Yogurts/Cheese/Eggs/Substitutes    50130000\n",
      "17                                    Oils/Fats Edible    50150000\n",
      "12             Confectionery/Sugar Sweetening Products    50160000\n",
      "24                   Seasonings/Preservatives/Extracts    50170000\n",
      "5                                Bread/Bakery Products    50180000\n",
      "19                            Prepared/Preserved Foods    50190000\n",
      "1                                            Beverages    50200000\n",
      "9                          Cereal/Grain/Pulse Products    50220000\n",
      "0                          Food/Beverage Variety Packs    50230000\n",
      "33             Fruits - Unprepared/Unprocessed (Fresh)    50250000\n",
      "32   Vegetables (Non Leaf) - Unprepared/Unprocessed...    50260000\n",
      "43    Leaf Vegetables - Unprepared/Unprocessed (Fresh)    50350000\n",
      "52                                Fresh Garnish (Food)    50360000\n",
      "58                 Fruits/Vegetables Fresh & Fresh Cut    50370000\n",
      "60                         Fruits/Vegetables Fresh Cut    50380000\n",
      "42                       Meat/Fish/Seafood Substitutes    50390000\n",
      "123                                     Insects Edible    50400000\n",
      "143                     Animal-derived Edible Products    50410000\n"
     ]
    }
   ],
   "source": [
    "import pandas as pd\n",
    "\n",
    "classif_df = pd.read_csv('../Classification_reference.csv')\n",
    "\n",
    "unique_families_df = classif_df[['FamilyTitle', 'FamilyCode']].drop_duplicates()\n",
    "print(unique_families_df.sort_values(by='FamilyCode'))\n"
   ]
  },
  {
   "cell_type": "code",
   "execution_count": 13,
   "metadata": {},
   "outputs": [
    {
     "name": "stdout",
     "output_type": "stream",
     "text": [
      "                        FamilyTitle  \\\n",
      "143  Animal-derived Edible Products   \n",
      "144  Animal-derived Edible Products   \n",
      "145  Animal-derived Edible Products   \n",
      "\n",
      "                                            ClassTitle  \\\n",
      "143  Animal-derived Edible Products - Prepared/Proc...   \n",
      "144  Animal-derived Edible Products - Prepared/Proc...   \n",
      "145  Animal-derived Edible Products - Unprepared/Un...   \n",
      "\n",
      "                                          BrickTitle AttributeValueTitle  \n",
      "143            Edible Bird Nest - Prepared/Processed                 NaN  \n",
      "144  Edible Donkey-hide Gelatin - Prepared/Processed                 NaN  \n",
      "145        Edible Bird Nest - Unprepared/Unprocessed                 NaN  \n"
     ]
    }
   ],
   "source": [
    "code = 50410000\n",
    "\n",
    "study_df = classif_df[(classif_df['FamilyCode'] == code)]\n",
    "study_df.to_excel('study_df.xlsx', index=False)\n",
    "print(study_df[['FamilyTitle','ClassTitle','BrickTitle', 'AttributeValueTitle']])"
   ]
  },
  {
   "cell_type": "code",
   "execution_count": 14,
   "metadata": {},
   "outputs": [
    {
     "ename": "NameError",
     "evalue": "name 'conn' is not defined",
     "output_type": "error",
     "traceback": [
      "\u001b[0;31m---------------------------------------------------------------------------\u001b[0m",
      "\u001b[0;31mNameError\u001b[0m                                 Traceback (most recent call last)",
      "Cell \u001b[0;32mIn[14], line 1\u001b[0m\n\u001b[0;32m----> 1\u001b[0m \u001b[43mconn\u001b[49m\u001b[38;5;241m.\u001b[39mclose()\n",
      "\u001b[0;31mNameError\u001b[0m: name 'conn' is not defined"
     ]
    }
   ],
   "source": [
    "conn.close()"
   ]
  }
 ],
 "metadata": {
  "kernelspec": {
   "display_name": "venv",
   "language": "python",
   "name": "python3"
  },
  "language_info": {
   "codemirror_mode": {
    "name": "ipython",
    "version": 3
   },
   "file_extension": ".py",
   "mimetype": "text/x-python",
   "name": "python",
   "nbconvert_exporter": "python",
   "pygments_lexer": "ipython3",
   "version": "3.12.9"
  }
 },
 "nbformat": 4,
 "nbformat_minor": 2
}
