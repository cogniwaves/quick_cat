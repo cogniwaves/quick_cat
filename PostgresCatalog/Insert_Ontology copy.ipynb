{
 "cells": [
  {
   "cell_type": "code",
   "execution_count": 3,
   "metadata": {},
   "outputs": [],
   "source": [
    "import psycopg2\n",
    "\n",
    "# Connect to the default \"postgres\" database to create a new one\n",
    "conn = psycopg2.connect(\n",
    "    host=\"34.47.32.127\",\n",
    "    port=5432,  # Default PostgreSQL port\n",
    "    dbname=\"octogone_cat_v0\",\n",
    "    user=\"postgres\",\n",
    "    password=\"f87JpR9Uvud6NR3HwbP\"\n",
    ")\n"
   ]
  },
  {
   "cell_type": "markdown",
   "metadata": {},
   "source": [
    "# INSERT FAMILIES"
   ]
  },
  {
   "cell_type": "code",
   "execution_count": 7,
   "metadata": {},
   "outputs": [
    {
     "name": "stdout",
     "output_type": "stream",
     "text": [
      "                   FamilyTitle  FamilyCode  \\\n",
      "0  Food/Beverage Variety Packs    50230000   \n",
      "1                    Beverages    50200000   \n",
      "2                    Beverages    50200000   \n",
      "3                    Beverages    50200000   \n",
      "4                    Beverages    50200000   \n",
      "\n",
      "                                          ClassTitle  ClassCode  \\\n",
      "0                        Food/Beverage Variety Packs   50230100   \n",
      "1  Alcoholic Beverages (Includes De-Alcoholised V...   50202200   \n",
      "2                             Coffee/Tea/Substitutes   50201700   \n",
      "3       Non Alcoholic Beverages - Not Ready to Drink   50202400   \n",
      "4           Non Alcoholic Beverages - Ready to Drink   50202300   \n",
      "\n",
      "                                          BrickTitle  BrickCode  \\\n",
      "0                        Food/Beverage Variety Packs   10000590   \n",
      "1                  Alcoholic Beverages Variety Packs   10000591   \n",
      "2               Coffee/Tea/Substitutes Variety Packs   10000592   \n",
      "3  Non Alcoholic Beverages Variety Packs - Not Re...   10000593   \n",
      "4  Non Alcoholic Beverages Variety Packs - Ready ...   10000594   \n",
      "\n",
      "  AttributeTitle  AttributeCode AttributeValueTitle  AttributeValueCode  \\\n",
      "0            NaN            NaN                 NaN                 NaN   \n",
      "1            NaN            NaN                 NaN                 NaN   \n",
      "2            NaN            NaN                 NaN                 NaN   \n",
      "3            NaN            NaN                 NaN                 NaN   \n",
      "4            NaN            NaN                 NaN                 NaN   \n",
      "\n",
      "  AttributeValueDefinition                                    searchable_text  \\\n",
      "0                      NaN                        FOOD BEVERAGE VARIETY PACKS   \n",
      "1                      NaN                  ALCOHOLIC BEVERAGES VARIETY PACKS   \n",
      "2                      NaN               COFFEE TEA SUBSTITUTES VARIETY PACKS   \n",
      "3                      NaN  NON ALCOHOLIC BEVERAGES VARIETY PACKS NOT READ...   \n",
      "4                      NaN  NON ALCOHOLIC BEVERAGES VARIETY PACKS READY TO...   \n",
      "\n",
      "                           searchable_text_uncleaned stl_embedding  \\\n",
      "0                       FOOD/BEVERAGE VARIETY PACKS             []   \n",
      "1                 ALCOHOLIC BEVERAGES VARIETY PACKS             []   \n",
      "2              COFFEE/TEA/SUBSTITUTES VARIETY PACKS             []   \n",
      "3  NON ALCOHOLIC BEVERAGES VARIETY PACKS - NOT RE...            []   \n",
      "4  NON ALCOHOLIC BEVERAGES VARIETY PACKS - READY ...            []   \n",
      "\n",
      "                                   uuid ref_uuid  \n",
      "0  4df09bf2-53e6-4359-85d1-9350efa2fdc5      NaN  \n",
      "1  b746b52a-9709-44e3-9f63-9870bb4ab9b7      NaN  \n",
      "2  21f57ccb-4bca-468b-b135-e585a232812b      NaN  \n",
      "3  124376d1-26a9-4bae-bb58-50dd55a049c6      NaN  \n",
      "4  63bfd639-06a9-49ef-8731-c39ecf555ae5      NaN  \n"
     ]
    }
   ],
   "source": [
    "import pandas as pd\n",
    "\n",
    "classif_df = pd.read_csv('../Classification_reference.csv')\n",
    "print(classif_df.head())"
   ]
  },
  {
   "cell_type": "code",
   "execution_count": 9,
   "metadata": {},
   "outputs": [
    {
     "name": "stdout",
     "output_type": "stream",
     "text": [
      "                                FamilyTitle  FamilyCode  \\\n",
      "0               Food/Beverage Variety Packs    50230000   \n",
      "1                                 Beverages    50200000   \n",
      "5                     Bread/Bakery Products    50180000   \n",
      "9               Cereal/Grain/Pulse Products    50220000   \n",
      "12  Confectionery/Sugar Sweetening Products    50160000   \n",
      "\n",
      "                                    uuid  \n",
      "0   08ba177a-19c8-4856-8891-72a318aef1f3  \n",
      "1   c44011b6-2458-4147-aa80-637bb210fbed  \n",
      "5   3e25f14a-5b90-4d65-b84c-bd64c26c7b24  \n",
      "9   f142c2b0-bcd4-4a57-bfbf-0fc61f4406a9  \n",
      "12  72256ba3-87db-484d-87b3-d17bcd9454c5  \n"
     ]
    }
   ],
   "source": [
    "# Select unique FamilyTitle And FamilyCode from the classif_df data frame and add a uuid4 column\n",
    "import uuid\n",
    "classif_df = classif_df[['FamilyTitle', 'FamilyCode']].drop_duplicates()\n",
    "classif_df['uuid'] = [uuid.uuid4() for _ in range(len(classif_df.index))]\n",
    "print(classif_df.head())"
   ]
  },
  {
   "cell_type": "code",
   "execution_count": 16,
   "metadata": {},
   "outputs": [],
   "source": [
    "# Insert the data into the catalog.family table\n",
    "conn.rollback()\n",
    "cursor = conn.cursor()\n",
    "for i, row in classif_df.iterrows():\n",
    "    cursor.execute(\n",
    "        \"INSERT INTO catalog.family (family_id, family_name_en, family_code, family_kind) VALUES (%s, %s, %s, %s)\",\n",
    "        (str(row['uuid']), row['FamilyTitle'], row['FamilyCode'], 'FOOD')\n",
    "    )\n",
    "conn.commit()\n",
    "cursor.close()"
   ]
  },
  {
   "cell_type": "markdown",
   "metadata": {},
   "source": [
    "# For each family insert the categories"
   ]
  },
  {
   "cell_type": "code",
   "execution_count": 17,
   "metadata": {},
   "outputs": [
    {
     "name": "stdout",
     "output_type": "stream",
     "text": [
      "                   FamilyTitle  FamilyCode  \\\n",
      "0  Food/Beverage Variety Packs    50230000   \n",
      "1                    Beverages    50200000   \n",
      "2                    Beverages    50200000   \n",
      "3                    Beverages    50200000   \n",
      "4                    Beverages    50200000   \n",
      "\n",
      "                                          ClassTitle  ClassCode  \\\n",
      "0                        Food/Beverage Variety Packs   50230100   \n",
      "1  Alcoholic Beverages (Includes De-Alcoholised V...   50202200   \n",
      "2                             Coffee/Tea/Substitutes   50201700   \n",
      "3       Non Alcoholic Beverages - Not Ready to Drink   50202400   \n",
      "4           Non Alcoholic Beverages - Ready to Drink   50202300   \n",
      "\n",
      "                                          BrickTitle  BrickCode  \\\n",
      "0                        Food/Beverage Variety Packs   10000590   \n",
      "1                  Alcoholic Beverages Variety Packs   10000591   \n",
      "2               Coffee/Tea/Substitutes Variety Packs   10000592   \n",
      "3  Non Alcoholic Beverages Variety Packs - Not Re...   10000593   \n",
      "4  Non Alcoholic Beverages Variety Packs - Ready ...   10000594   \n",
      "\n",
      "  AttributeTitle  AttributeCode AttributeValueTitle  AttributeValueCode  \\\n",
      "0            NaN            NaN                 NaN                 NaN   \n",
      "1            NaN            NaN                 NaN                 NaN   \n",
      "2            NaN            NaN                 NaN                 NaN   \n",
      "3            NaN            NaN                 NaN                 NaN   \n",
      "4            NaN            NaN                 NaN                 NaN   \n",
      "\n",
      "  AttributeValueDefinition                                    searchable_text  \\\n",
      "0                      NaN                        FOOD BEVERAGE VARIETY PACKS   \n",
      "1                      NaN                  ALCOHOLIC BEVERAGES VARIETY PACKS   \n",
      "2                      NaN               COFFEE TEA SUBSTITUTES VARIETY PACKS   \n",
      "3                      NaN  NON ALCOHOLIC BEVERAGES VARIETY PACKS NOT READ...   \n",
      "4                      NaN  NON ALCOHOLIC BEVERAGES VARIETY PACKS READY TO...   \n",
      "\n",
      "                           searchable_text_uncleaned stl_embedding  \\\n",
      "0                       FOOD/BEVERAGE VARIETY PACKS             []   \n",
      "1                 ALCOHOLIC BEVERAGES VARIETY PACKS             []   \n",
      "2              COFFEE/TEA/SUBSTITUTES VARIETY PACKS             []   \n",
      "3  NON ALCOHOLIC BEVERAGES VARIETY PACKS - NOT RE...            []   \n",
      "4  NON ALCOHOLIC BEVERAGES VARIETY PACKS - READY ...            []   \n",
      "\n",
      "                                   uuid ref_uuid  \n",
      "0  4df09bf2-53e6-4359-85d1-9350efa2fdc5      NaN  \n",
      "1  b746b52a-9709-44e3-9f63-9870bb4ab9b7      NaN  \n",
      "2  21f57ccb-4bca-468b-b135-e585a232812b      NaN  \n",
      "3  124376d1-26a9-4bae-bb58-50dd55a049c6      NaN  \n",
      "4  63bfd639-06a9-49ef-8731-c39ecf555ae5      NaN  \n"
     ]
    }
   ],
   "source": [
    "import pandas as pd\n",
    "\n",
    "classif_df = pd.read_csv('../Classification_reference.csv')\n",
    "print(classif_df.head())"
   ]
  },
  {
   "cell_type": "code",
   "execution_count": 18,
   "metadata": {},
   "outputs": [],
   "source": [
    "# Insert the data into the catalog.category table\n",
    "# conn.rollback()\n",
    "cursor = conn.cursor()\n",
    "\n",
    "# Retrieve family_id from catalog.family using family_code\n",
    "family_code_to_id = {}\n",
    "cursor.execute(\"SELECT family_code, family_id FROM catalog.family\")\n",
    "for record in cursor.fetchall():\n",
    "    family_code_to_id[record[0]] = record[1]\n",
    "\n",
    "# Insert categories\n",
    "for i, row in classif_df.iterrows():\n",
    "    family_id = family_code_to_id.get(row['FamilyCode'])\n",
    "    if family_id:\n",
    "        cursor.execute(\n",
    "            \"INSERT INTO catalog.category (category_id, family_id, category_name_en, category_code) VALUES (%s, %s, %s, %s)\",\n",
    "            (str(uuid.uuid4()), family_id, row['ClassTitle'], row['ClassCode'])\n",
    "        )\n",
    "\n",
    "conn.commit()\n",
    "cursor.close()"
   ]
  },
  {
   "cell_type": "markdown",
   "metadata": {},
   "source": [
    "# Insert subcategories\n",
    "\n",
    "Subcategories do not align with a single column.  Each family must be explored."
   ]
  },
  {
   "cell_type": "code",
   "execution_count": 20,
   "metadata": {},
   "outputs": [
    {
     "name": "stdout",
     "output_type": "stream",
     "text": [
      "                                           FamilyTitle  FamilyCode\n",
      "14     Fruits/Vegetables/Nuts/Seeds Prepared/Processed    50100000\n",
      "23                                    Fish and Seafood    50120000\n",
      "16   Milk/Butter/Cream/Yogurts/Cheese/Eggs/Substitutes    50130000\n",
      "17                                    Oils/Fats Edible    50150000\n",
      "12             Confectionery/Sugar Sweetening Products    50160000\n",
      "24                   Seasonings/Preservatives/Extracts    50170000\n",
      "5                                Bread/Bakery Products    50180000\n",
      "19                            Prepared/Preserved Foods    50190000\n",
      "1                                            Beverages    50200000\n",
      "9                          Cereal/Grain/Pulse Products    50220000\n",
      "0                          Food/Beverage Variety Packs    50230000\n",
      "33             Fruits - Unprepared/Unprocessed (Fresh)    50250000\n",
      "32   Vegetables (Non Leaf) - Unprepared/Unprocessed...    50260000\n",
      "43    Leaf Vegetables - Unprepared/Unprocessed (Fresh)    50350000\n",
      "52                                Fresh Garnish (Food)    50360000\n",
      "58                 Fruits/Vegetables Fresh & Fresh Cut    50370000\n",
      "60                         Fruits/Vegetables Fresh Cut    50380000\n",
      "42                       Meat/Fish/Seafood Substitutes    50390000\n",
      "123                                     Insects Edible    50400000\n",
      "143                     Animal-derived Edible Products    50410000\n"
     ]
    }
   ],
   "source": [
    "# Insert Subcategories\n",
    "\n",
    "import pandas as pd\n",
    "\n",
    "classif_df = pd.read_csv('../Classification_reference.csv')\n",
    "\n",
    "unique_families_df = classif_df[['FamilyTitle', 'FamilyCode']].drop_duplicates()\n",
    "print(unique_families_df.sort_values(by='FamilyCode'))\n",
    "\n"
   ]
  },
  {
   "cell_type": "code",
   "execution_count": 21,
   "metadata": {},
   "outputs": [
    {
     "name": "stdout",
     "output_type": "stream",
     "text": [
      "                                        FamilyTitle  FamilyCode  \\\n",
      "14  Fruits/Vegetables/Nuts/Seeds Prepared/Processed    50100000   \n",
      "15  Fruits/Vegetables/Nuts/Seeds Prepared/Processed    50100000   \n",
      "\n",
      "                                    ClassTitle  ClassCode  \\\n",
      "14                Fruit/Nuts/Seeds Combination   50101900   \n",
      "15  Fruits/Vegetables/Nuts/Seeds Variety Packs   50102200   \n",
      "\n",
      "                                    BrickTitle  BrickCode AttributeTitle  \\\n",
      "14  Fruit/Nuts/Seeds Combination Variety Packs   10000604            NaN   \n",
      "15  Fruits/Vegetables/Nuts/Seeds Variety Packs   10000605            NaN   \n",
      "\n",
      "    AttributeCode AttributeValueTitle  AttributeValueCode  \\\n",
      "14            NaN                 NaN                 NaN   \n",
      "15            NaN                 NaN                 NaN   \n",
      "\n",
      "   AttributeValueDefinition                             searchable_text  \\\n",
      "14                      NaN  FRUIT NUTS SEEDS COMBINATION VARIETY PACKS   \n",
      "15                      NaN  FRUITS VEGETABLES NUTS SEEDS VARIETY PACKS   \n",
      "\n",
      "                      searchable_text_uncleaned stl_embedding  \\\n",
      "14  FRUIT/NUTS/SEEDS COMBINATION VARIETY PACKS             []   \n",
      "15  FRUITS/VEGETABLES/NUTS/SEEDS VARIETY PACKS             []   \n",
      "\n",
      "                                    uuid ref_uuid  \n",
      "14  9072dd6c-fa55-4a16-a058-4c560386e2b8      NaN  \n",
      "15  662568f4-a692-43dc-99c4-50996cc8682b      NaN  \n"
     ]
    }
   ],
   "source": [
    "sub_family_df = classif_df[classif_df['FamilyCode'] == 50100000]\n",
    "\n",
    "query = \"\"\"\n",
    "    INSERT INTO catalog.subcategory \n",
    "        (sub_category_id, \n",
    "        sub_category_name_en, \n",
    "        sub_category_code, \n",
    "        category_id, \n",
    "        searchable_text)\n",
    "    \"\"\"\n",
    "\n"
   ]
  }
 ],
 "metadata": {
  "kernelspec": {
   "display_name": "venv",
   "language": "python",
   "name": "python3"
  },
  "language_info": {
   "codemirror_mode": {
    "name": "ipython",
    "version": 3
   },
   "file_extension": ".py",
   "mimetype": "text/x-python",
   "name": "python",
   "nbconvert_exporter": "python",
   "pygments_lexer": "ipython3",
   "version": "3.12.9"
  }
 },
 "nbformat": 4,
 "nbformat_minor": 2
}
