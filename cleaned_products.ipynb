{
 "cells": [
  {
   "cell_type": "code",
   "execution_count": 1,
   "metadata": {},
   "outputs": [],
   "source": [
    "import firebase_admin\n",
    "from firebase_admin import credentials, firestore\n",
    "import json\n",
    "import pandas as pd\n",
    "\n",
    "# Initialize Firebase\n",
    "cred = credentials.Certificate(\"/home/poiqwepoi/octo_secrets/octogone-2024-fs.json\")\n",
    "firebase_admin.initialize_app(cred)\n",
    "\n",
    "# Get Firestore client\n",
    "db = firestore.client()\n"
   ]
  },
  {
   "cell_type": "code",
   "execution_count": null,
   "metadata": {},
   "outputs": [],
   "source": [
    "collections = db.collections()\n",
    "for collection in collections:\n",
    "    print(collection.id)\n",
    "\n"
   ]
  },
  {
   "cell_type": "markdown",
   "metadata": {},
   "source": [
    "# Show sample of client documents"
   ]
  },
  {
   "cell_type": "code",
   "execution_count": null,
   "metadata": {},
   "outputs": [],
   "source": [
    "# Get a reference to the 'clients' collection\n",
    "clients_ref = db.collection(\"clients\")\n",
    "\n",
    "# Fetch up to 5 documents (adjust as needed)\n",
    "docs = clients_ref.limit(5).stream()\n",
    "\n",
    "# Print each document\n",
    "for doc in docs:\n",
    "    print(f\"Document ID: {doc.id}\")\n",
    "    print(doc.to_dict())  # Convert Firestore document to dictionary\n",
    "    print(\"-\" * 40)  # Separator for readability\n"
   ]
  },
  {
   "cell_type": "code",
   "execution_count": null,
   "metadata": {},
   "outputs": [],
   "source": [
    "query = db.collection(\"clients\").stream()\n",
    "\n",
    "for doc in query:\n",
    "    data = doc.to_dict()\n",
    "    if \"name\" in data and \"Rioux\" in data[\"name\"]:\n",
    "        print(f\"Document ID: {doc.id}\")\n",
    "        print(data)\n",
    "        print(\"-\" * 40)\n"
   ]
  },
  {
   "cell_type": "code",
   "execution_count": null,
   "metadata": {},
   "outputs": [],
   "source": [
    "# find in product collection product with document ID 01ed23998d6dccc6acf86ab638f9c5c1\n",
    "product = db.collection('clients').document('chezRioux').get()\n",
    "print(product.to_dict())"
   ]
  },
  {
   "cell_type": "code",
   "execution_count": null,
   "metadata": {},
   "outputs": [],
   "source": [
    "doc_ref = db.collection(\"clients\").document(\"chezRioux\")\n",
    "\n",
    "# List subcollections\n",
    "subcollections = doc_ref.collections()\n",
    "\n",
    "for subcollection in subcollections:\n",
    "    print(subcollection.id)  # Print subcollection names\n",
    "\n"
   ]
  },
  {
   "cell_type": "code",
   "execution_count": null,
   "metadata": {},
   "outputs": [],
   "source": [
    "subcollection_ref = db.collection(\"clients\").document(\"chezRioux\").collection(\"establishments\")\n",
    "docs = subcollection_ref.stream()\n",
    "\n",
    "for doc in docs:\n",
    "    print(f\"Document ID: {doc.id}\")\n",
    "    print(doc.to_dict())  # Convert Firestore document to dictionary\n",
    "    print(\"-\" * 40)\n"
   ]
  },
  {
   "cell_type": "code",
   "execution_count": null,
   "metadata": {},
   "outputs": [],
   "source": [
    "global_doc_ref = db.collection(\"clients\").document(\"chezRioux\").collection(\"establishments\").document(\"global\")\n",
    "\n",
    "# List subcollections\n",
    "subcollections = global_doc_ref.collections()\n",
    "\n",
    "for subcollection in subcollections:\n",
    "    print(subcollection.id)  # Print subcollection names\n",
    "\n"
   ]
  },
  {
   "cell_type": "code",
   "execution_count": null,
   "metadata": {},
   "outputs": [],
   "source": [
    "\n",
    "products_ref = (\n",
    "    db.collection(\"clients\")\n",
    "    .document(\"chezRioux\")\n",
    "    .collection(\"establishments\")\n",
    "    .document(\"global\")\n",
    "    .collection(\"products\")\n",
    ")\n",
    "\n",
    "docs = products_ref.stream()\n",
    "for doc in docs:\n",
    "    myprod = doc.to_dict()\n",
    "    print(myprod)\n",
    "    myingredientinfo = myprod[\"ingredientInfo\"]\n",
    "    print(myingredientinfo)\n",
    "    volume_equivalence = myingredientinfo[\"volumeEquivalence\"]\n",
    "    print(\"volEqui: \", volume_equivalence)\n",
    "    unitequivalence = myingredientinfo[\"unitEquivalence\"]\n",
    "    print(\"unitEqui: \", unitequivalence)\n",
    "    weightequivalence = myingredientinfo[\"weightEquivalence\"]\n",
    "    print(\"weightEqui: \",  weightequivalence)\n",
    "    break\n",
    "\n"
   ]
  },
  {
   "cell_type": "code",
   "execution_count": null,
   "metadata": {},
   "outputs": [],
   "source": [
    "import json\n",
    "import pandas as pd\n",
    "\n",
    "products_ref = (\n",
    "    db.collection(\"clients\")\n",
    "    .document(\"chezRioux\")\n",
    "    .collection(\"establishments\")\n",
    "    .document(\"global\")\n",
    "    .collection(\"products\")\n",
    ")\n",
    "\n",
    "docs = products_ref.stream()\n",
    "\n",
    "\"\"\"\n",
    "for doc in docs:\n",
    "    print(f\"Document ID: {doc.id}\")\n",
    "    print(doc.to_dict())  # Convert Firestore document to dictionary\n",
    "    print(\"-\" * 40)\n",
    "\"\"\"\n",
    "data =[]\n",
    "\n",
    "for doc in docs:\n",
    "    myprod = doc.to_dict()\n",
    "\n",
    "    # Extract required fields\n",
    "    product_id = doc.id\n",
    "    product_name = myprod.get(\"name\", None)\n",
    "    text_search = myprod.get(\"textSearch\", None)\n",
    "    product_suppliers = myprod.get(\"productSuppliers\", None)\n",
    "    \n",
    "    # Extract latestInvoiceLine details\n",
    "    latest_invoice = myprod.get(\"latestInvoiceLine\", {})\n",
    "\n",
    "    if latest_invoice:\n",
    "        # Extract pricePerUnit directly\n",
    "        price_per_unit = latest_invoice.get(\"pricePerUnit\", None)\n",
    "\n",
    "        # Extract packaging and price from supplierInvoiceLineInfo\n",
    "        supplier_info = latest_invoice.get(\"supplierInvoiceLineInfo\", \"{}\")\n",
    "        supplier_info = json.loads(supplier_info) if isinstance(supplier_info, str) else supplier_info\n",
    "\n",
    "        packaging = supplier_info.get(\"packaging\", None)\n",
    "        price = supplier_info.get(\"price\", None)\n",
    "    else:\n",
    "        price_per_unit = None\n",
    "        packaging = None\n",
    "        price = None\n",
    "\n",
    "    # Append structured data to list\n",
    "    data.append({\n",
    "        \"id\": product_id,\n",
    "        \"name\": product_name,\n",
    "        \"textSearch\": text_search,\n",
    "        \"productSuppliers\": product_suppliers,\n",
    "        \"packaging\": packaging,\n",
    "        \"price\": price,\n",
    "        \"pricePerUnit\": price_per_unit,\n",
    "    })\n",
    "\n",
    "# Convert to DataFrame\n",
    "products_df = pd.DataFrame(data)\n",
    "\n",
    "# Display the DataFrame\n",
    "print(products_df)\n",
    "\n"
   ]
  },
  {
   "cell_type": "code",
   "execution_count": null,
   "metadata": {},
   "outputs": [],
   "source": [
    "print(products_df[[\"id\", \"name\", \"packaging\",\"pricePerUnit\"]])\n",
    "products_df.to_csv(\"products.csv\", index=False)"
   ]
  },
  {
   "cell_type": "code",
   "execution_count": null,
   "metadata": {},
   "outputs": [],
   "source": [
    "\"\"\"myprod = doc.to_dict()\n",
    "\n",
    "myprod.keys()\n",
    "#print(myprod.productSuppliers, \" \", myprod.name, \" \" , myprod.textSearch)\n",
    "\n",
    "\n",
    "# print values for keys productSuppliers, name and textSearch\n",
    "print(myprod[\"productSuppliers\"])\n",
    "print(myprod[\"name\"])\n",
    "print(myprod[\"textSearch\"])\n",
    "print(myprod[\"id\"])\n",
    "print(myprod[\"pricePerUnit\"])\n",
    "\"\"\"\n"
   ]
  },
  {
   "cell_type": "code",
   "execution_count": null,
   "metadata": {},
   "outputs": [],
   "source": []
  },
  {
   "cell_type": "code",
   "execution_count": 23,
   "metadata": {},
   "outputs": [],
   "source": [
    "df_product_name = pd.read_csv('octogone_products_cleaned_dedup_final.csv')"
   ]
  },
  {
   "cell_type": "code",
   "execution_count": null,
   "metadata": {},
   "outputs": [],
   "source": [
    "df_product_name.head()"
   ]
  },
  {
   "cell_type": "code",
   "execution_count": null,
   "metadata": {},
   "outputs": [],
   "source": [
    "# Merge prod_df with df_product_name on id = product_id\n",
    "merged_df = products_df.merge(df_product_name, left_on=\"id\", right_on=\"product_id\", how=\"left\")\n",
    "\n",
    "# Display merged DataFrame\n",
    "print(merged_df)\n"
   ]
  },
  {
   "cell_type": "code",
   "execution_count": null,
   "metadata": {},
   "outputs": [],
   "source": [
    "pd.set_option(\"display.max_colwidth\", None)\n",
    "\n",
    "# Show first 5 non-null productSuppliers values\n",
    "print(merged_df[\"productSuppliers\"].dropna().head(5))\n",
    "\n"
   ]
  },
  {
   "cell_type": "code",
   "execution_count": null,
   "metadata": {},
   "outputs": [],
   "source": [
    "filtered_df = merged_df[merged_df[\"product_id\"] == \"zzuEK7hhGx3zUE5ZZ3Jq\"]\n",
    "\n",
    "# Display the row\n",
    "print(filtered_df[[\"id\", \"name\", \"product_name\", \"productSuppliers\"]])\n",
    "\n",
    "\n"
   ]
  },
  {
   "cell_type": "code",
   "execution_count": null,
   "metadata": {},
   "outputs": [],
   "source": [
    "selected_df = filtered_df[[\"id\", \"name\", \"product_name\", \"productSuppliers\"]]\n",
    "\n",
    "# Display the new DataFrame\n",
    "print(selected_df.head(10))\n"
   ]
  },
  {
   "cell_type": "code",
   "execution_count": null,
   "metadata": {},
   "outputs": [],
   "source": [
    "# Filter rows where productSuppliers contains productSupplier.id = '1fU2P79RXOWhxkCmKax6'\n",
    "filtered_df = merged_df[\n",
    "    merged_df[\"productSuppliers\"].apply(\n",
    "        lambda suppliers: isinstance(suppliers, list) and any(\n",
    "            supplier.get(\"id\") == \"1fU2P79RXOWhxkCmKax6\" for supplier in suppliers\n",
    "        )\n",
    "    )\n",
    "]\n",
    "\n",
    "# Display the filtered DataFrame\n",
    "print(filtered_df)"
   ]
  },
  {
   "cell_type": "code",
   "execution_count": null,
   "metadata": {},
   "outputs": [],
   "source": [
    "supplier_data = []\n",
    "\n",
    "for index, suppliers in merged_df[\"productSuppliers\"].dropna().items():\n",
    "    if isinstance(suppliers, dict):  # Ensure it's a dictionary\n",
    "        for supplier_key, supplier_info in suppliers.items():\n",
    "            supplier_data.append({\n",
    "                \"product_id\": merged_df.loc[index, \"id\"],  # Original product ID\n",
    "                \"supplier_id\": supplier_info.get(\"supplierId\", None),\n",
    "                \"product_code\": supplier_info.get(\"code\", None),\n",
    "                \"priorityIndex\": supplier_info.get(\"priorityIndex\", None),\n",
    "                \"equivalences\": supplier_info.get(\"equivalences\", []),\n",
    "            })\n",
    "\n",
    "# Convert to DataFrame\n",
    "supplier_df = pd.DataFrame(supplier_data)\n",
    "\n",
    "# Display DataFrame\n",
    "print(supplier_df)\n"
   ]
  },
  {
   "cell_type": "code",
   "execution_count": null,
   "metadata": {},
   "outputs": [],
   "source": [
    "equivalence_data = []\n",
    "\n",
    "for _, row in supplier_df.iterrows():\n",
    "    for eq in row[\"equivalences\"]:\n",
    "        equivalence_data.append({\n",
    "            \"product_id\": row[\"product_id\"],\n",
    "            \"supplier_id\": row[\"supplier_id\"],\n",
    "            \"product_code\": row[\"product_code\"],\n",
    "            \"measure_id\": eq.get(\"equivalence\", {}).get(\"measureId\", None),\n",
    "            \"qty_of_measure\": eq.get(\"equivalence\", {}).get(\"qtyOfMeasure\", None),\n",
    "            \"abbreviation\": eq.get(\"abbreviation\", None),\n",
    "        })\n",
    "\n",
    "# Convert to DataFrame\n",
    "equivalence_df = pd.DataFrame(equivalence_data)\n",
    "\n",
    "# Display DataFrame\n",
    "print(equivalence_df)\n"
   ]
  },
  {
   "cell_type": "code",
   "execution_count": null,
   "metadata": {},
   "outputs": [],
   "source": [
    "import pandas as pd\n",
    "\n",
    "# Step 1: Extract supplier-level data with product name\n",
    "supplier_data = []\n",
    "\n",
    "for index, suppliers in merged_df[\"productSuppliers\"].dropna().items():\n",
    "    if isinstance(suppliers, dict):  # Ensure it's a dictionary\n",
    "        for supplier_key, supplier_info in suppliers.items():\n",
    "            supplier_data.append({\n",
    "                \"product_id\": merged_df.loc[index, \"id\"],  # Original product ID\n",
    "                \"name\": merged_df.loc[index, \"name\"],  # Product Name\n",
    "                \"supplier_id\": supplier_info.get(\"supplierId\", None),\n",
    "                \"product_code\": supplier_info.get(\"code\", None),\n",
    "                \"priorityIndex\": supplier_info.get(\"priorityIndex\", None),\n",
    "                \"equivalences\": supplier_info.get(\"equivalences\", []),\n",
    "            })\n",
    "\n",
    "supplier_df = pd.DataFrame(supplier_data)\n",
    "\n",
    "# Step 2: Extract equivalence-level data\n",
    "equivalence_data = []\n",
    "\n",
    "for _, row in supplier_df.iterrows():\n",
    "    for eq in row[\"equivalences\"]:\n",
    "        equivalence_data.append({\n",
    "            \"product_id\": row[\"product_id\"],\n",
    "            \"name\": row[\"name\"],  # Keep product name\n",
    "            \"supplier_id\": row[\"supplier_id\"],\n",
    "            \"product_code\": row[\"product_code\"],\n",
    "            \"measure_id\": eq.get(\"equivalence\", {}).get(\"measureId\", None),\n",
    "            \"qty_of_measure\": eq.get(\"equivalence\", {}).get(\"qtyOfMeasure\", None),\n",
    "            \"abbreviation\": eq.get(\"abbreviation\", None),\n",
    "        })\n",
    "\n",
    "equivalence_df = pd.DataFrame(equivalence_data)\n",
    "\n",
    "# Step 3: Merge supplier_df and equivalence_df\n",
    "final_df = supplier_df.drop(columns=[\"equivalences\"]).merge(equivalence_df, on=[\"product_id\", \"name\", \"supplier_id\", \"product_code\"], how=\"left\")\n",
    "\n",
    "# Display final DataFrame\n",
    "print(final_df)\n"
   ]
  },
  {
   "cell_type": "code",
   "execution_count": 63,
   "metadata": {},
   "outputs": [],
   "source": [
    "final_df.to_csv('final_df.csv', index=False)"
   ]
  },
  {
   "cell_type": "code",
   "execution_count": null,
   "metadata": {},
   "outputs": [],
   "source": [
    "# Reference to suppliers collection\n",
    "suppliers_ref = (\n",
    "    db.collection(\"clients\")\n",
    "    .document(\"chezRioux\")\n",
    "    .collection(\"establishments\")\n",
    "    .document(\"global\")\n",
    "    .collection(\"suppliers\")\n",
    ")\n",
    "\n",
    "# Fetch suppliers\n",
    "supplier_docs = suppliers_ref.stream()\n",
    "\n",
    "# Store supplier data in a list\n",
    "supplier_data = []\n",
    "\n",
    "for doc in supplier_docs:\n",
    "    supplier_info = doc.to_dict()\n",
    "    supplier_data.append({\n",
    "        \"supplier_id\": doc.id,  # Firestore document ID\n",
    "        \"supplier_name\": supplier_info.get(\"name\", None),\n",
    "        \"supplier_email\": supplier_info.get(\"email\", None),\n",
    "        \"supplier_website\": supplier_info.get(\"website\", None),\n",
    "    })\n",
    "\n",
    "# Convert supplier data to DataFrame\n",
    "supplier_df = pd.DataFrame(supplier_data)\n",
    "\n",
    "# Display the supplier DataFrame\n",
    "print(supplier_df)\n",
    "\n",
    "\n"
   ]
  },
  {
   "cell_type": "code",
   "execution_count": null,
   "metadata": {},
   "outputs": [],
   "source": [
    "# Merge final_df with supplier_df on 'supplier_id'\n",
    "final_df = final_df.merge(supplier_df, on=\"supplier_id\", how=\"left\")\n",
    "\n",
    "# Display the updated DataFrame\n",
    "print(final_df)\n"
   ]
  },
  {
   "cell_type": "code",
   "execution_count": null,
   "metadata": {},
   "outputs": [],
   "source": [
    "# Export final_df to an Excel file\n",
    "final_df.to_excel(\"final_products_suppliers.xlsx\", index=False)\n",
    "\n",
    "print(\"Export complete: final_products_suppliers.xlsx\")\n"
   ]
  }
 ],
 "metadata": {
  "kernelspec": {
   "display_name": "venv",
   "language": "python",
   "name": "python3"
  },
  "language_info": {
   "codemirror_mode": {
    "name": "ipython",
    "version": 3
   },
   "file_extension": ".py",
   "mimetype": "text/x-python",
   "name": "python",
   "nbconvert_exporter": "python",
   "pygments_lexer": "ipython3",
   "version": "3.12.9"
  }
 },
 "nbformat": 4,
 "nbformat_minor": 2
}
